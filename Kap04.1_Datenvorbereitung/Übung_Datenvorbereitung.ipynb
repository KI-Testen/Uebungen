{
    "cells": [
        {
            "cell_type": "markdown",
            "id": "c9929f77-d5bd-4e43-bf06-1cce3abc4d7b",
            "metadata": {},
            "source": [
                "# \u00dcbung zu Kapitel 4.1 zur Datenvorbereitung\n",
                "\n",
                "*Eine \u00dcbung zum Buch \"[Basiswissen KI-Testen - Qualit\u00e4t von und mit KI-basierten Systemen](https://dpunkt.de/produkt/basiswissen-ki-testen/)\", ISBN 978-3-86490-947-4*\n",
                "\n",
                "In dieser \u00dcbung verwenden wir den *Iris*-Datensatz, der h\u00e4ufig zur Einf\u00fchrung f\u00fcr ML-Grundlagen verwendet wird. Wenn wir den Datensatz beispielsweise bei [openML](https://www.openml.org/search?type=data&status=active&id=61&sort=runs) herunterladen, ist der Datensatz schon soweit vorbereitet, dass man ihn ohne weitere Aufbereitung zum ML verwenden kann. In der Realit\u00e4t sehen Rohdaten selten so aus.\n",
                "\n",
                "F\u00fcr diese \u00dcbung haben wir einen Datensatz vorbereitet, der einige Fallstricke enth\u00e4lt, die h\u00e4ufig in Rohdaten zu finden sind. In diesem Notebook bereiten wir den Rohdatensatz soweit auf, dass wir ihn in den folgenden \u00dcbungen zur Erstellung eines ML-Modells verwenden k\u00f6nnen.\n",
                "Wir nutzen hier wieder mehrere Bibliotheken, die daf\u00fcr passende Methoden bereithalten:\n",
                "\n",
                "[<img src=\"https://pandas.pydata.org/docs/_static/pandas.svg\" alt=\"pandas\" width=\"80\" height=\"24\">](https://pandas.pydata.org/docs/reference/index.html)\n",
                "&emsp; [<img src=\"https://numpy.org/doc/stable/_static/numpylogo.svg\" alt=\"Numpy\" width=\"80\" height=\"24\">](https://numpy.org/doc/stable/reference/index.html#reference)\n",
                "&emsp; [<img src=\"https://docs.scipy.org/doc/scipy/_static/logo.svg\" alt=\"SciPy\" width=\"24\" height=\"24\"> SciPy](https://docs.scipy.org/doc/scipy/index.html)"
            ]
        },
        {
            "cell_type": "markdown",
            "id": "70ff17d0-64cb-4697-b413-27736bc5f985",
            "metadata": {},
            "source": [
                "In dieser \u00dcbung lesen wir einen Datensatz ein und schauen uns die folgenden Aspekte in der Vorverarbeitung der Daten genauer an:\n",
                "- fehlerhafte Eintr\u00e4ge\n",
                "- Ausrei\u00dfer\n",
                "- Absch\u00e4tzung fehlender Eintr\u00e4ge\n",
                "- Duplikate\n",
                "- \u00fcberfl\u00fcssige Merkmale\n",
                "- kategorischer Daten in numerische Daten"
            ]
        },
        {
            "cell_type": "markdown",
            "id": "f2276bb0-bc68-4b6f-9b10-53cf03b4a45f",
            "metadata": {},
            "source": [
                "## Aufgabe 1\n",
                "**Lies den Iris-Datensatz aus der CSV-Datei ein und analysiere, ob die eingelesenen Informationen konsistent sind. Korrigiere diese gegebenenfalls.**"
            ]
        },
        {
            "cell_type": "markdown",
            "id": "97effe0a-d913-4dd7-9222-2aadb20a2cdf",
            "metadata": {},
            "source": [
                "#### Datensatz einlesen"
            ]
        },
        {
            "cell_type": "code",
            "execution_count": null,
            "id": "001ad63c-6319-4425-8cd9-f0559051aae1",
            "metadata": {},
            "outputs": [],
            "source": [
                "# importieren der Bibliotheken, die wir f\u00fcr die Aufgaben 1 und 2 ben\u00f6tigen\n",
                "import pandas as pd\n",
                "import numpy  as np"
            ]
        },
        {
            "cell_type": "markdown",
            "id": "03781ade-a0aa-488c-9ee9-92631f401330",
            "metadata": {},
            "source": [
                "Wir haben dir eine csv-Datei (csv steht f\u00fcr Comma-Separated-Values-Format) vorbereitet und lesen dieses File mit der [*read_csv*](https://pandas.pydata.org/docs/reference/api/pandas.read_csv.html)-Funktion aus der Pandas-Bibliothek ein."
            ]
        },
        {
            "cell_type": "code",
            "execution_count": null,
            "id": "c4dd20a0-d08d-4cd4-9b9f-d3a6bd6b11c2",
            "metadata": {},
            "outputs": [],
            "source": [
                "data = pd.read_csv(\"Iris.csv\")"
            ]
        },
        {
            "cell_type": "markdown",
            "id": "0a45b5a3-c97f-4755-b50e-84026a33964b",
            "metadata": {},
            "source": [
                "Um sicherzugehen, ob das Einlesen der Datei richtig funktioniert hat, schauen wir uns mit der [*head*](https://pandas.pydata.org/docs/reference/api/pandas.DataFrame.head.html)-Funktion die ersten Zeilen des Iris-Datensatzes an."
            ]
        },
        {
            "cell_type": "code",
            "execution_count": null,
            "id": "2aae8531-fc28-499b-846e-f58537b3fa7f",
            "metadata": {},
            "outputs": [],
            "source": [
                "data.head()"
            ]
        },
        {
            "cell_type": "markdown",
            "id": "5cf1a108-4d67-437d-af47-487da7571cc2",
            "metadata": {},
            "source": [
                "Oh, hier ist etwas schiefgelaufen: Beim Einlesen wurden die Spalten nicht richtig erkannt. In der ersten Zeile sehen wir, dass die Spalten \"counter\", \"sepallength\", \"sepalwidth\", \"petallength\", \"petalwidth\" und \"class\" nicht durch Kommata sondern durch Semikola (;) voneinander getrennt werden. "
            ]
        },
        {
            "cell_type": "markdown",
            "id": "0ac0e404-d7f7-442c-8827-380075ab84d3",
            "metadata": {},
            "source": [
                "**Aufgabe:**\n",
                "Gib in der [*read_csv*](https://pandas.pydata.org/docs/reference/api/pandas.read_csv.html)-Funktion an, das in unserer Datei das Semikolon als Separator verwendet wurden soll."
            ]
        },
        {
            "cell_type": "code",
            "execution_count": null,
            "id": "a44198b3-710f-4322-a38e-21edcc49508b",
            "metadata": {
                "tags": [
                    "Aufgabe"
                ]
            },
            "outputs": [],
            "source": [
                "data = pd.read_csv(\"Iris.csv\", sep = ...)\n",
                "data.head()"
            ]
        },
        {
            "cell_type": "code",
            "execution_count": null,
            "id": "d5016662-7c91-4603-a62b-0860688727e7",
            "metadata": {
                "tags": [
                    "L\u00f6sung"
                ],
                "jupyter": {
                    "source_hidden": true
                }
            },
            "outputs": [],
            "source": [
                "# Um die L\u00f6sung anzuzeigen, bitte diese Zelle zweimal ausf\u00fchren\n",
                "%load L\u00f6sungen/L\u00f6sung01.py"
            ]
        },
        {
            "cell_type": "markdown",
            "id": "02fae1bc-fdcc-4aed-82a3-eb6cbd46e854",
            "metadata": {},
            "source": [
                "Wenn wir uns die Eintr\u00e4ge in den Daten anschauen, f\u00e4llt gleich auf, dass bei der Datenerhebung als Dezimaltrennzeichen Kommata benutzt wurden. Python verwendet aber Punkte als Dezimaltrennzeichen. Damit wir mit den Daten in Python weiterarbeiten k\u00f6nnen, m\u00fcssen wir einheitlich Punkte verwenden."
            ]
        },
        {
            "cell_type": "markdown",
            "id": "109c91da-4280-4e67-9054-24619c872236",
            "metadata": {},
            "source": [
                "**Aufgabe:**\n",
                "Gib in der [*read_csv*](https://pandas.pydata.org/docs/reference/api/pandas.read_csv.html) an, dass in unserer Datei das Komma als Dezimaltrennzeichen (englisch: decimal separator) verwendet werden soll."
            ]
        },
        {
            "cell_type": "code",
            "execution_count": null,
            "id": "acdbf3e3-51f9-4c1b-99f3-b3a7cb4cbe0e",
            "metadata": {
                "tags": [
                    "Aufgabe"
                ]
            },
            "outputs": [],
            "source": [
                "data = pd.read_csv(\"Iris.csv\", sep = \";\", decimal=...)\n",
                "data.head()"
            ]
        },
        {
            "cell_type": "code",
            "execution_count": null,
            "id": "ab786c03-369e-4469-8096-41ffa87dadb7",
            "metadata": {
                "tags": [
                    "L\u00f6sung"
                ],
                "jupyter": {
                    "source_hidden": true
                }
            },
            "outputs": [],
            "source": [
                "# Um die L\u00f6sung anzuzeigen, bitte diese Zelle zweimal ausf\u00fchren\n",
                "%load L\u00f6sungen/L\u00f6sung02.py"
            ]
        },
        {
            "cell_type": "markdown",
            "id": "ccc291df-5d24-4c03-92e1-104383af5919",
            "metadata": {},
            "source": [
                "#### Erste Datenanalyse\n",
                "\n",
                "Mit der [*describe*](https://pandas.pydata.org/docs/reference/api/pandas.DataFrame.describe.html)-Funktion k\u00f6nnen wir mit einem Blick einen guten \u00dcberblick \u00fcber die Daten erhalten. So k\u00f6nnen wir schnell erste Hinweise auf notwendige Schritte in der Datenvorbereitung finden."
            ]
        },
        {
            "cell_type": "code",
            "execution_count": null,
            "id": "8fae3347-bb72-4de6-96d4-f272f76f9f9c",
            "metadata": {},
            "outputs": [],
            "source": [
                "data.describe()"
            ]
        },
        {
            "cell_type": "markdown",
            "id": "9f4a6b05-4dc8-4a79-9a0d-705ad31b3357",
            "metadata": {},
            "source": [
                "Hier fallen uns ein paar Dinge auf:\n",
                "- Der Maximalwert f\u00fcr petallength ist mit 13 auffallend hoch und weit entfernt von den anderen Werten. -> Ist das realistisch?\n",
                "- Die Anzahl der Eintr\u00e4ge, angegeben in der Zeile \"count\", ist f\u00fcr die verschiedenen Spalten unterschiedlich. -> Fehlen hier Eintr\u00e4ge?"
            ]
        },
        {
            "cell_type": "markdown",
            "id": "8a3a5481-a059-4ac5-a323-9e276dde38c5",
            "metadata": {},
            "source": [
                "## Aufgabe 2\n",
                "**Finde fehlerhafte Eintr\u00e4ge mit numerischen Ausrei\u00dfern oder fehlenden Werten und entferne oder korrigieren diese**"
            ]
        },
        {
            "cell_type": "markdown",
            "id": "92bcc541-c89a-4648-830e-e86481a71125",
            "metadata": {},
            "source": [
                "#### Extremwerte"
            ]
        },
        {
            "cell_type": "markdown",
            "id": "c5217f17-a833-432e-a461-cbdb2ed17e08",
            "metadata": {},
            "source": [
                "Als erstes schauen wir uns die Datenreihe mit *sepalwidth* von 13 cm genauer an. "
            ]
        },
        {
            "cell_type": "code",
            "execution_count": null,
            "id": "67da7973-6f1b-4e1a-a8b7-b6b720712dd7",
            "metadata": {},
            "outputs": [],
            "source": [
                "data[data[\"sepalwidth\"] == 13]"
            ]
        },
        {
            "cell_type": "code",
            "execution_count": null,
            "id": "1f7221f1-c480-4753-8793-3bdfc8dbf489",
            "metadata": {},
            "outputs": [],
            "source": [
                "data[\"sepalwidth\"].sort_values(ascending= False)"
            ]
        },
        {
            "cell_type": "markdown",
            "id": "a4e2e4aa-b0f9-4b69-8a98-f01061c41d23",
            "metadata": {},
            "source": [
                "Die Datenreihe mit der sepalwidth von 13 ist ein Ausrei\u00dfer nach oben (er hat gleichzeitig auch den niedrigsten Wert f\u00fcr das Merkmal petallength). Diese Datenreihe verwerfen wir besser. Dazu wenden wir die Methode [*drop*](https://pandas.pydata.org/docs/reference/api/pandas.DataFrame.drop.html#pandas.DataFrame.drop) auf den Eintrag mit der Nummer 100 an (Z\u00e4hler der originalen Eintr\u00e4ge in der ersten Spalte)."
            ]
        },
        {
            "cell_type": "code",
            "execution_count": null,
            "id": "3db9766e-0853-4d3d-a687-97dd8ce63e00",
            "metadata": {},
            "outputs": [],
            "source": [
                "data = data.drop(labels = 100, axis = 0)"
            ]
        },
        {
            "cell_type": "markdown",
            "id": "41161cb1-28a8-4566-b320-9ca1a78c27f9",
            "metadata": {},
            "source": [
                "#### Fehlende/Fehlerhafte Daten"
            ]
        },
        {
            "cell_type": "markdown",
            "id": "b1cce46a-a00b-4405-a696-173f727e1388",
            "metadata": {},
            "source": [
                "Nun schauen wir nach *fehlenden* Eintr\u00e4gen. Dazu verwenden wir die Funktion [*isna*](https://pandas.pydata.org/docs/reference/api/pandas.DataFrame.isna.html)."
            ]
        },
        {
            "cell_type": "code",
            "execution_count": null,
            "id": "42fdeb9f-0ffc-4060-9d7a-03ba1620d6ba",
            "metadata": {},
            "outputs": [],
            "source": [
                "data[data.isna().any(axis=1)]"
            ]
        },
        {
            "cell_type": "markdown",
            "id": "99299398-2c2c-4ab4-af2d-bacb4d1b3e0f",
            "metadata": {},
            "source": [
                "Der Eintrag mit dem Index 138 ist eine leere Datenreihe. Diese Zeile entfernen wir aus dem Datensatz."
            ]
        },
        {
            "cell_type": "code",
            "execution_count": null,
            "id": "df84530a-ee31-4867-82c2-ddb73cc0aac0",
            "metadata": {},
            "outputs": [],
            "source": [
                "data = data.drop(labels = 138, axis = 0)\n",
                "data[data.isna().any(axis=1)]"
            ]
        },
        {
            "cell_type": "markdown",
            "id": "7d8f97f5-a5a7-406b-8f09-9a6cefee415b",
            "metadata": {},
            "source": [
                "Bei den anderen fehlenden Eintr\u00e4gen wenden wir eine andere Methode an: Wir ersetzen diese durch Mittelwerte.\n",
                "Die fehlenden Werte f\u00fcr den 25sten und 106ten Eintrag k\u00f6nnen wir gut durch den jeweiligen Mittelwert der entsprechenden Schwertlienienart (auf eine Nachkommastelle) absch\u00e4tzen."
            ]
        },
        {
            "cell_type": "code",
            "execution_count": null,
            "id": "c28adce0-8db0-4444-979d-25b469ef0746",
            "metadata": {},
            "outputs": [],
            "source": [
                "data[data[\"class\"] == \"Iris-setosa\"][\"sepallength\"].mean()"
            ]
        },
        {
            "cell_type": "code",
            "execution_count": null,
            "id": "8af69de9-dc1f-405c-99a1-dafe12802059",
            "metadata": {},
            "outputs": [],
            "source": [
                "data.loc[25,'sepallength'] = 5"
            ]
        },
        {
            "cell_type": "code",
            "execution_count": null,
            "id": "af1b3bdb-ff9d-41d8-9e0a-1d42f4c691e6",
            "metadata": {},
            "outputs": [],
            "source": [
                "data[data[\"class\"] == \"Iris-virginica\"][\"petallength\"].mean()"
            ]
        },
        {
            "cell_type": "code",
            "execution_count": null,
            "id": "2ad52111-e2d2-4c83-b1e8-2db6d28a8fed",
            "metadata": {},
            "outputs": [],
            "source": [
                "data.loc[106,'petallength'] = 5.6"
            ]
        },
        {
            "cell_type": "markdown",
            "id": "b0e48c38-b31f-4498-8b9f-4fa18c4ab519",
            "metadata": {},
            "source": [
                "Wir k\u00f6nnen abschlie\u00dfend noch \u00fcberpr\u00fcfen, ob die beiden letzten \u00c4nderungen erfolgreich waren und es keine fehlenden Eintr\u00e4ge (NaN) mehr gibt."
            ]
        },
        {
            "cell_type": "code",
            "execution_count": null,
            "id": "83a26e42-e62c-4b5c-a039-6dde9171b598",
            "metadata": {
                "tags": [
                    "Test"
                ]
            },
            "outputs": [],
            "source": [
                "data.loc[[25,106]]"
            ]
        },
        {
            "cell_type": "code",
            "execution_count": null,
            "id": "39183092-d43a-48e1-8cda-6d360987b0f3",
            "metadata": {
                "tags": [
                    "Test"
                ]
            },
            "outputs": [],
            "source": [
                "data[data.isna().any(axis=1)]"
            ]
        },
        {
            "cell_type": "markdown",
            "id": "4d05dbba-43d2-4793-b246-90042ff0f935",
            "metadata": {},
            "source": [
                "## Aufgabe 3\n",
                "**Finde und entferne irrelevante Informationen wie Duplikate oder \u00fcberfl\u00fcssige Spalten**"
            ]
        },
        {
            "cell_type": "markdown",
            "id": "f7d16a73-91cc-46cb-bb02-a32d7d9aac92",
            "metadata": {},
            "source": [
                "#### Duplikate entfernen"
            ]
        },
        {
            "cell_type": "markdown",
            "id": "5d943bfa-60fa-4d4e-b567-cb0783ce9c70",
            "metadata": {},
            "source": [
                "Duplikate in Datens\u00e4tzen k\u00f6nnen im Training einen Bias verursachen. Daher wollen wir Duplikate finden und entfernen."
            ]
        },
        {
            "cell_type": "code",
            "execution_count": null,
            "id": "21d02dc6-607b-4d93-bcb6-360c012ceb6d",
            "metadata": {},
            "outputs": [],
            "source": [
                "data[data.duplicated()]"
            ]
        },
        {
            "cell_type": "code",
            "execution_count": null,
            "id": "ae7bb395-ef6d-473a-8b9a-621f7a07a941",
            "metadata": {},
            "outputs": [],
            "source": [
                "data.loc[84:89]"
            ]
        },
        {
            "cell_type": "markdown",
            "id": "f937aafc-16be-4d46-a14c-9c1543739e44",
            "metadata": {},
            "source": [
                "Hier wurden die Dateneintr\u00e4ge mit dem **counter** 86 und 87 zweimal zu dem Datensatz hinzugef\u00fcgt. Wir entfernen die Datenreihen mit der [drop_duplicates](https://pandas.pydata.org/docs/reference/api/pandas.DataFrame.drop_duplicates.html)-Funktion."
            ]
        },
        {
            "cell_type": "code",
            "execution_count": null,
            "id": "45f0ee5a-c6ac-4b6c-b70d-1f0b45ccd633",
            "metadata": {},
            "outputs": [],
            "source": [
                "data = data.drop_duplicates()"
            ]
        },
        {
            "cell_type": "code",
            "execution_count": null,
            "id": "46526b41-89a3-48d4-a4f4-0a1001f152a1",
            "metadata": {},
            "outputs": [],
            "source": [
                "data.loc[84:89]"
            ]
        },
        {
            "cell_type": "markdown",
            "id": "b4f5a7b8-2c84-4de3-a8f9-742f6802c082",
            "metadata": {},
            "source": [
                "#### \u00dcberfl\u00fcssige Spalte l\u00f6schen"
            ]
        },
        {
            "cell_type": "markdown",
            "id": "d511618a-bc60-4946-ae06-3863aaa2f0f2",
            "metadata": {},
            "source": [
                "Informationen in den Daten, die nicht mit dem Datensatz direkt in Verbindung stehen sondern mit der Datenerhebung wie hier die Spalte \"counter\" entfernen wir. So verhindern wir, dass das ML-Modell sp\u00e4ter diese Informationen lernt und so das Lernen negativ beeintr\u00e4chtigt wird."
            ]
        },
        {
            "cell_type": "code",
            "execution_count": null,
            "id": "a3fb13ae-069d-47ee-9375-29e8c223b8d7",
            "metadata": {},
            "outputs": [],
            "source": [
                "data = data.drop(columns = ['counter'])\n",
                "data"
            ]
        },
        {
            "cell_type": "markdown",
            "id": "214ec001-08ba-48aa-870a-3001918f4c3b",
            "metadata": {},
            "source": [
                "## Aufgabe 4"
            ]
        },
        {
            "cell_type": "markdown",
            "id": "f058dde8-d083-4971-b5c5-2577a67c568c",
            "metadata": {},
            "source": [
                "#### Wandle kategorische Merkmale in numerische um"
            ]
        },
        {
            "cell_type": "markdown",
            "id": "211297ff-a818-48b8-a5d3-95b35030ddcf",
            "metadata": {},
            "source": [
                "ML-Modelle arbeiten mit numerischen und Daten, daher wandeln wir die kategorischen Klassen 'Iris-setosa', 'Iris-versicolor', 'Iris-virginica' in einen numerischen Code um. Die Funktion [*unique*](https://pandas.pydata.org/docs/reference/api/pandas.unique.html) gibt dabei von jedem Wert (hier die Namen der Iris-Klassen) nur einen zur\u00fcck."
            ]
        },
        {
            "cell_type": "code",
            "execution_count": null,
            "id": "a223f29d-3451-4c1a-b772-3420dad7f5fc",
            "metadata": {},
            "outputs": [],
            "source": [
                "np.unique(data['class'])"
            ]
        },
        {
            "cell_type": "code",
            "execution_count": null,
            "id": "735e843c-cf02-432c-8638-9c0dd8049361",
            "metadata": {},
            "outputs": [],
            "source": [
                "data = data.replace('Iris-setosa', 0)\n",
                "data = data.replace('Iris-versicolor',1)\n",
                "data = data.replace('Iris-virginica',2)"
            ]
        },
        {
            "cell_type": "markdown",
            "id": "a00a4b54-dc74-48f5-b910-f1d2ede65aa4",
            "metadata": {},
            "source": [
                "## Test und Speichern\n",
                "**Test, ob alle Fallstricke gefunden wurden**\n",
                "\n",
                "Wir pr\u00fcfen nun, ob alle deine Schritte richtig waren, indem wir den aufbereiteten Datensatz `data` mit einer Musterl\u00f6sung vergleichen."
            ]
        },
        {
            "cell_type": "code",
            "execution_count": null,
            "id": "61aab3b6-b26c-416b-8895-ae363d7cc7ad",
            "metadata": {
                "tags": []
            },
            "outputs": [],
            "source": [
                "from scipy.io import arff\n",
                "pdata, meta = arff.loadarff('L\u00f6sungen/dataset_61_iris_l\u00f6sung.arff')   # die Daten in 'pdata' einlesen; 'meta' enth\u00e4lt Metainformationen \n",
                "df = pd.DataFrame(pdata)                                              # die Daten in einen DataFrame (wie 'data') konvertieren.\n",
                "df['class'], classes = pd.factorize(df['class'].str.decode('utf-8'))  # die 'class'-Spalte kategorisieren (Text -> Zahl)\n",
                "data = data.reset_index(drop=True)                                    # die Nummerierung unserer 'data' neu vornehmen\n",
                "\n",
                "df.equals(data) # pr\u00fcft, ob der von dir aufbereitete Datensatz \u00b4data\u00b4 mit der Musterl\u00f6sung \u00b4df\u00b4 \u00fcbereinstimmt. Wenn ja, dann ist das Ergebnis \"True\""
            ]
        },
        {
            "cell_type": "markdown",
            "id": "73bf3672-15a4-41d7-986b-0fb2503fa519",
            "metadata": {},
            "source": [
                "Wenn dein Ergebnis \"True\" lautet, hast du die Datenvorbereitung erfolgreich abgeschlossen. Wir speichern nun die so vorbereiteten Daten als \"Iris2.csv\" Datei ab, um sie in der n\u00e4chsten \u00dcbung verwenden zu k\u00f6nnen."
            ]
        },
        {
            "cell_type": "code",
            "execution_count": null,
            "id": "caa8933a-f417-4d30-99f5-95075bf44d1c",
            "metadata": {},
            "outputs": [],
            "source": [
                "data.to_csv('Iris2.csv', index=False)"
            ]
        },
        {
            "cell_type": "markdown",
            "id": "a83d61fa-7809-496c-8817-ae185a35e3d7",
            "metadata": {},
            "source": [
                "Jetzt ist der Datensatz aufbereitet f\u00fcr die n\u00e4chste praktische \u00dcbung zur Identifikation von Trainings- und Testdaten und dem Erstellen eines ML-Modells."
            ]
        }
    ],
    "metadata": {
        "kernelspec": {
            "display_name": "Python 3 (ipykernel)",
            "language": "python",
            "name": "python3"
        },
        "language_info": {
            "codemirror_mode": {
                "name": "ipython",
                "version": 3
            },
            "file_extension": ".py",
            "mimetype": "text/x-python",
            "name": "python",
            "nbconvert_exporter": "python",
            "pygments_lexer": "ipython3",
            "version": "3.11.0"
        }
    },
    "nbformat": 4,
    "nbformat_minor": 5
}
