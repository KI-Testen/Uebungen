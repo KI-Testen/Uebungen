{
    "cells": [
        {
            "cell_type": "markdown",
            "id": "e831f3b8-222b-4d8e-9247-d4553b53a23e",
            "metadata": {},
            "source": [
                "# \u00dcbung zu Kapitel 5.1 - funktionale Leistungsmetriken berechnen\n",
                "\n",
                "*Eine \u00dcbung zum Buch \"[Basiswissen KI-Testen - Qualit\u00e4t von und mit KI-basierten Systemen](https://dpunkt.de/produkt/basiswissen-ki-testen/)\", ISBN 978-3-86490-947-4*\n",
                "\n",
                "In dieser \u00dcbung schauen wir uns in einem fiktiven Experiment die Zuverl\u00e4ssigkeit eines Corona-Antigen-Tests an, berechnen die funktionalen Leistungsmetriken und diskutieren diese kurz."
            ]
        },
        {
            "cell_type": "markdown",
            "id": "f108cf59-3201-4023-983c-937fa33bec28",
            "metadata": {},
            "source": [
                "## Das fiktive Experiment"
            ]
        },
        {
            "cell_type": "markdown",
            "id": "a894673f-6c38-43fe-80fc-00461d56882e",
            "metadata": {},
            "source": [
                "In dem Experiment wurden 193 Probanden mit dem gleichen Corona-Antigen-Test-Kit getestet (n = 193). Dabei hatten 118 Probanden keine Corona-Infektion und 75 Probanden eine Corona-Infektion.\n",
                "\n",
                "F\u00fcr den Corona-Test wurde die folgende **Konfusionsmatrix** angegeben:\n",
                "<table width=\"320\" style=\"text-align:center;border:0px\">\n",
                "    <tr>\n",
                "        <th bgcolor=\"#ffffff\" colspan=\"2\" width=\"120px\"><b>n=193</b></td>\n",
                "        <td bgcolor=\"#f0f0f0\" style=\"border-width:0pt 1pt 0pt 1pt;border-style:solid;border-color:lightgrey\"><img src=\"data/ActP.png\" width=\"26px\"/><br/>tats\u00e4chlich positiv</td>\n",
                "        <td bgcolor=\"#f0f0f0\" style=\"border-width:0pt 1pt 0pt 1pt;border-style:solid;border-color:lightgrey\"><img src=\"data/ActN.png\" width=\"26px\"/><br/>tats\u00e4chlich negativ</td>\n",
                "    </tr>\n",
                "    <tr>\n",
                "        <td bgcolor=\"#f0f0f0\" style=\"border-width:1pt 0pt 1pt 0pt;border-style:solid;border-color:lightgrey\"><img src=\"data/PreP.png\" width=\"20px\"/></td>\n",
                "        <td bgcolor=\"#f0f0f0\" style=\"border-width:1pt 0pt 1pt 0pt;border-style:solid;border-color:lightgrey\">positiv getestet</td>\n",
                "        <td bgcolor=\"#ffffff\" style=\"border-width:1pt;border-style:solid;border-color:lightgrey\">52</td>\n",
                "        <td bgcolor=\"#ffffff\" style=\"border-width:1pt;border-style:solid;border-color:lightgrey\">8</td>\n",
                "    </tr>\n",
                "    <tr>\n",
                "        <td bgcolor=\"#f0f0f0\" style=\"border-width:1pt 0pt 1pt 0pt;border-style:solid;border-color:lightgrey\"><img src=\"data/PreN.png\" width=\"20px\"/></td>\n",
                "        <td bgcolor=\"#f0f0f0\" style=\"border-width:1pt 0pt 1pt 0pt;border-style:solid;border-color:lightgrey\">negativ getestet</td>\n",
                "        <td bgcolor=\"#ffffff\" style=\"border-width:1pt;border-style:solid;border-color:lightgrey\">23</td>\n",
                "        <td bgcolor=\"#ffffff\" style=\"border-width:1pt;border-style:solid;border-color:lightgrey\">110</td>\n",
                "    </tr>\n",
                "</table>\n",
                "\n"
            ]
        },
        {
            "cell_type": "markdown",
            "id": "ae3409b7-eb63-4a1c-87f5-f9699b470fb8",
            "metadata": {},
            "source": [
                "## Die Aufgaben\n",
                "\n",
                "1. **Berechne** im Folgenden aus der obigen Konfusionsmatrix die **vier funktionalen Leistungsmetriken**: Genauigkeit, Pr\u00e4zision, Sensitivit\u00e4t und F1-Wert, indem du einfach die Berechnung durch Python-Code an den Stellen mit `...` einsetzt\n",
                "\n",
                "2. **Bewerte** am Ergebnis, wie zuverl\u00e4ssig der Test deiner Meinung nach ist.\n",
                "\n",
                "*Eine Hilfestellung findest du in der ausgeblendeten Zelle (...)*"
            ]
        },
        {
            "cell_type": "markdown",
            "id": "de20138c-8e5f-4732-986c-920bffe24560",
            "metadata": {
                "jupyter": {
                    "source_hidden": true
                },
                "tags": [
                    "L\u00f6sung"
                ]
            },
            "source": [
                "Um die Metriken zu berechnen, entnehmen wir der Tabelle die Anzahl der Klassifikationen f\u00fcr die vier Situationen der Probanden:\n",
                "* *richtig positiv* (RP): 52 Probanden sind positiv getestet und haben auch tats\u00e4chlich Corona.\n",
                "* *richtig negativ* (RN): 110 Probanden sind negativ getestet und haben auch tats\u00e4chlich kein Corona.\n",
                "* *falsch positiv* (FP): 8 Probanden sind positiv getestet, obwohl sie kein Corona haben.\n",
                "* *falsch negativ* (FN): 23 Probanden sind negativ getestet, obwohl sie Corona haben.\n"
            ]
        },
        {
            "cell_type": "code",
            "execution_count": null,
            "id": "0621d1c8-22c0-4e07-91d6-2f2c9053d464",
            "metadata": {
                "tags": [
                    "Aufgabe"
                ]
            },
            "outputs": [],
            "source": [
                "Genauigkeit  = ...\n",
                "Pr\u00e4zision    = ...\n",
                "Sensitivit\u00e4t = ...\n",
                "F1_Wert      = ...\n",
                "print(f\"die Genauigkeit ist {Genauigkeit*100:3.2f}%\")\n",
                "print(f\"die Pr\u00e4zision ist {Pr\u00e4zision*100:3.2f}%\")\n",
                "print(f\"die Sensitivit\u00e4t ist {Sensitivit\u00e4t*100:3.2f}%\")\n",
                "print(f\"der F1-Wert ist {F1_Wert*100:3.2f}%\")"
            ]
        },
        {
            "cell_type": "code",
            "execution_count": null,
            "id": "9eb92834-af3b-476d-89ce-f2d8ccebe0cc",
            "metadata": {
                "tags": [
                    "L\u00f6sung"
                ],
                "jupyter": {
                    "source_hidden": true
                }
            },
            "outputs": [],
            "source": [
                "# Um die L\u00f6sung anzuzeigen, bitte diese Zelle zweimal ausf\u00fchren\n",
                "%load L\u00f6sungen/L\u00f6sung01.py"
            ]
        },
        {
            "cell_type": "markdown",
            "id": "105b05aa-a8c5-4f2b-a62e-ed48c7951c4b",
            "metadata": {
                "jp-MarkdownHeadingCollapsed": true,
                "tags": []
            },
            "source": [
                "### Hinweise zur Berechnung (L\u00f6sung)"
            ]
        },
        {
            "cell_type": "markdown",
            "id": "5043c892-8a3f-4251-b410-5227ed5fc561",
            "metadata": {
                "tags": [
                    "L\u00f6sung"
                ],
                "jupyter": {
                    "source_hidden": true
                }
            },
            "source": [
                "Die Genauigkeit ist der Prozentsatz aller richtig vorhergesagten Klassifikationen: $$\\text{Genauigkeit} = \\frac{RP+FP}{RP+FP+RN+FN} = \\frac{RP+RN}{n}$$\n",
                "\n",
                "Die Pr\u00e4zision ist der Prozentsatz der richtig positiven vorhergesagten Klassifikationen unter allen positiv vorhergesagten: $$\\text{Pr\u00e4zision} = \\frac{RP}{RP+FP}$$\n",
                "\n",
                "Die Sensitivit\u00e4t ist der Prozentsatz der richtig positiven vorhergesagten positiven Klas-sifikationen unter allen tats\u00e4chlich positiven: $$\\text{Sensitivit\u00e4t} = \\frac{RP}{RP+FN}$$\n",
                "\n",
                "Der F1-Wert ist das harmonische Mittel aus Pr\u00e4zision und Sensitivit\u00e4t: $$\\text{F1-Wert} = 2\\cdot\\frac{\\text{Pr\u00e4zision}\\cdot\\text{Sensitivit\u00e4t}}{\\text{Pr\u00e4zision}+\\text{Sensitivit\u00e4t}}$$"
            ]
        },
        {
            "cell_type": "markdown",
            "id": "5015b9d8-4ce7-4985-b73b-a764cbe30eeb",
            "metadata": {
                "tags": []
            },
            "source": [
                "### Bewertung (L\u00f6sung)"
            ]
        },
        {
            "cell_type": "markdown",
            "id": "757fc686-9eb7-48f8-91f0-3bd64d0f6c4b",
            "metadata": {
                "tags": [
                    "L\u00f6sung"
                ],
                "jupyter": {
                    "source_hidden": true
                }
            },
            "source": [
                "Der Corona-Antigen-Test hat in 83,9 % der F\u00e4lle eine korrekte Aussage getroffen. Da die Pr\u00e4zision des Tests bei 86,7 % liegt, k\u00f6nnen wir ein gewisses Ma\u00df an Vertrauen in eine positives Testergebnis legen. Eine Person, die mit diesem Corona-Test positiv getestet wurde, hat mit einer Wahrscheinlichkeit von 86,7 % auch tats\u00e4chlich Corona.\n",
                "\n",
                "Die Sensitivit\u00e4t zeigt: Eine Person, die Corona hat, wird nur mit einer Wahrscheinlichkeit von 69,3 % auch positiv getestet. Fast jede dritte infizierte Person wird durch diesen Test nicht entdeckt.\n",
                "\n",
                "Zusammenfassend k\u00f6nnen wir festhalten, dass eine Person, die einen positiven Test hat, auch mit einer recht hohen Wahrscheinlichkeit Corona hat (hohe Pr\u00e4zision). Jedoch kommt es mit dem Test immer wieder vor, dass Personen, die Corona haben, nicht erkannt werden (niedrige Sensitivit\u00e4t). Mit anderen Worten: Wenn ich einen positiven Test habe, dann habe ich mit einer hohen Wahrscheinlichkeit tats\u00e4chlich Corona, wenn ich einen negativen Test habe, ist die Gefahr aber recht gro\u00df, dass ich vielleicht doch Corona habe.\n",
                "\n",
                "W\u00e4ren f\u00fcr unsere Verwendung Pr\u00e4zision und Sensitivit\u00e4t geleicherma\u00dfen wichtig, hilft uns der F1-Wert \u2013 hier bei 0,77. Er erlaubt uns, den vorliegenden Corona-Antigen-Test z. B. mit anderen Tests zu vergleichen und einzuordnen.\n",
                "\n",
                "Im Falle eines Schnelltests ist jedoch wichtig, m\u00f6glichst viele mit Corona infizierten Personen erkannt werden (hohe Sensitivit\u00e4t). Eine dadurch verschlechterte Pr\u00e4zision ist jedoch nicht so wichtig. Ein anderer nachfolgender Test mit hoher Pr\u00e4zision (PCR-Test) kann viele falsch-positive Ergebnisse im Nachgang korrigieren."
            ]
        },
        {
            "cell_type": "markdown",
            "id": "30abaeb4-862e-4154-a6f6-ebe7042e1a6a",
            "metadata": {
                "jp-MarkdownHeadingCollapsed": true,
                "tags": []
            },
            "source": [
                "## Zusatzaufgabe: Ein realer Corona-Antigen-Test\n",
                "\n",
                "In der Packungsbeilage eines echten Corona-Antigen-Tests kann man beispielsweise nachlesen:\n",
                "\n",
                "<table width=\"450\" style=\"text-align:center;border:0px\">\n",
                "    <tr>\n",
                "        <td bgcolor=\"#ffffff\" rowspan=\"2\"><b>COVID-19 Antigen</b></td>\n",
                "        <td bgcolor=\"#f0f0f0\" colspan=\"2\" style=\"border-width:0pt 1pt 0pt 1pt;border-style:solid;border-color:lightgrey\">RT-PCR (Ct-Wert&lt;=37)</td>\n",
                "        <td bgcolor=\"#ffffff\" rowspan=\"2\" style=\"border-width:0pt 1pt 0pt 1pt;border-style:solid;border-color:lightgrey\">Gesamt</td>\n",
                "    </tr>\n",
                "    <tr>\n",
                "        <td bgcolor=\"#f0f0f0\" style=\"border-width:0pt 1pt 0pt 1pt;border-style:solid;border-color:lightgrey\">Positiv</td>\n",
                "        <td bgcolor=\"#f0f0f0\" style=\"border-width:0pt 1pt 0pt 1pt;border-style:solid;border-color:lightgrey\">Negativ</td>\n",
                "    </tr>\n",
                "    <tr>\n",
                "        <td bgcolor=\"#f0f0f0\" style=\"border-width:1pt 0pt 1pt 0pt;border-style:solid;border-color:lightgrey\">Positiv</td>\n",
                "        <td bgcolor=\"#ffffff\" style=\"border-width:1pt;border-style:solid;border-color:lightgrey\">161</td>\n",
                "        <td bgcolor=\"#ffffff\" style=\"border-width:1pt;border-style:solid;border-color:lightgrey\">2</td>\n",
                "        <td bgcolor=\"#ffffff\" style=\"border-width:1pt;border-style:solid;border-color:lightgrey\">163</td>\n",
                "    </tr>\n",
                "    <tr>\n",
                "        <td bgcolor=\"#f0f0f0\" style=\"border-width:1pt 0pt 1pt 0pt;border-style:solid;border-color:lightgrey\">Negativ</td>\n",
                "        <td bgcolor=\"#ffffff\" style=\"border-width:1pt;border-style:solid;border-color:lightgrey\">14</td>\n",
                "        <td bgcolor=\"#ffffff\" style=\"border-width:1pt;border-style:solid;border-color:lightgrey\">593</td>\n",
                "        <td bgcolor=\"#ffffff\" style=\"border-width:1pt;border-style:solid;border-color:lightgrey\">607</td>\n",
                "    </tr>\n",
                "    <tr>\n",
                "        <td bgcolor=\"#ffffff\" style=\"border-width:1pt 0pt 1pt 0pt;border-style:solid;border-color:lightgrey\">Gesamt</td>\n",
                "        <td bgcolor=\"#ffffff\" style=\"border-width:1pt;border-style:solid;border-color:lightgrey\">175</td>\n",
                "        <td bgcolor=\"#ffffff\" style=\"border-width:1pt;border-style:solid;border-color:lightgrey\">595</td>\n",
                "        <td bgcolor=\"#ffffff\" style=\"border-width:1pt;border-style:solid;border-color:lightgrey\">770</td>\n",
                "    </tr>\n",
                "</table>\n"
            ]
        },
        {
            "cell_type": "markdown",
            "id": "3d7a5a5e-4f28-4983-9d46-09374a2d4eff",
            "metadata": {},
            "source": [
                "Berechne auch hier die vier funktionalen Leistungsmetriken. F\u00fclle die Werte `...` aus."
            ]
        },
        {
            "cell_type": "code",
            "execution_count": null,
            "id": "06a4f4c0-cce2-405f-8e52-6d40d927cdbe",
            "metadata": {
                "tags": [
                    "Aufgabe"
                ]
            },
            "outputs": [],
            "source": [
                "Genauigkeit  = ...\n",
                "Pr\u00e4zision    = ...\n",
                "Sensitivit\u00e4t = ...\n",
                "F1_Wert      = ...\n",
                "print(f\"die Genauigkeit ist {Genauigkeit*100:3.2f}%\")\n",
                "print(f\"die Pr\u00e4zision ist {Pr\u00e4zision*100:3.2f}%\")\n",
                "print(f\"die Sensitivit\u00e4t ist {Sensitivit\u00e4t*100:3.2f}%\")\n",
                "print(f\"die F1-Wert ist {F1_Wert*100:3.2f}%\")"
            ]
        },
        {
            "cell_type": "code",
            "execution_count": null,
            "id": "e2cc2324-974d-4ebe-995f-228f44df287e",
            "metadata": {
                "tags": [
                    "L\u00f6sung"
                ],
                "jupyter": {
                    "source_hidden": true
                }
            },
            "outputs": [],
            "source": [
                "# Um die L\u00f6sung anzuzeigen, bitte diese Zelle zweimal ausf\u00fchren\n",
                "%load L\u00f6sungen/L\u00f6sung02.py"
            ]
        },
        {
            "cell_type": "markdown",
            "id": "f5fbbcc2-cd29-4208-a294-acaf0030f77c",
            "metadata": {},
            "source": [
                "**Noch eine Aufgabe:**\n",
                "\n",
                "Die Packungsbeilage gibt au\u00dferdem zwei Werte an:\n",
                "\n",
                "PPA = 92,0%<br/>\n",
                "NPA = 99,7%\n",
                "\n",
                "Welche Werte sind das?"
            ]
        },
        {
            "cell_type": "markdown",
            "id": "253ec14b-bb8b-4cc7-83a1-f61b09ae9787",
            "metadata": {
                "tags": []
            },
            "source": [
                "### L\u00f6sung"
            ]
        },
        {
            "cell_type": "markdown",
            "id": "29b969a9-e8cc-4e31-ba49-123d06b3853f",
            "metadata": {
                "tags": [
                    "L\u00f6sung"
                ],
                "jupyter": {
                    "source_hidden": true
                }
            },
            "source": [
                "Beim ersten Wert handelt es sich, wenn wir die Zahlen vergleichen, eindeutig um die **Sensitivit\u00e4t**. \"PPA\" Steht f\u00fcr Positive prozentuale \u00dcbereinstimmung (Positive Percent Agreement).\n",
                "\n",
                "Doch der zweite Wert taucht in unseren vier Metriken nicht auf. Beim ihm handelt es sich um die Negative prozentuale \u00dcbereinstimmung (NPA - Negative Percent Agreement), oder auch **Spezifit\u00e4t**. Sie gibt an, wie sicher ein negatives Testergebnis einzusch\u00e4tzen ist."
            ]
        }
    ],
    "metadata": {
        "kernelspec": {
            "display_name": "Python 3 (ipykernel)",
            "language": "python",
            "name": "python3"
        },
        "language_info": {
            "codemirror_mode": {
                "name": "ipython",
                "version": 3
            },
            "file_extension": ".py",
            "mimetype": "text/x-python",
            "name": "python",
            "nbconvert_exporter": "python",
            "pygments_lexer": "ipython3",
            "version": "3.11.0"
        },
        "toc-showtags": false
    },
    "nbformat": 4,
    "nbformat_minor": 5
}
