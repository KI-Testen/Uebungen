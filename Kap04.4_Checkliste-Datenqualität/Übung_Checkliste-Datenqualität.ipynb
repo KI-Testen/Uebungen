{
 "cells": [
  {
   "cell_type": "markdown",
   "id": "a30165e6-0703-4967-9c89-35347dfa18a6",
   "metadata": {},
   "source": [
    "# Übung zu Kapitel 4.4 - Aspekte der Datenqualität\n",
    "\n",
    "*Eine Übung zum Buch \"[Basiswissen KI-Testen - Qualität von und mit KI-basierten Systemen](https://dpunkt.de/produkt/basiswissen-ki-testen/)\", ISBN 978-3-86490-947-4*\n",
    "\n",
    "In dieser Übung geht es darum, die Auswirkungen fehlender Datenqualität zu verstehen und richtig zuordnen zu können. Wenn ein KI-basiertes System mit einem Datensatz trainiert wird, gibt es verschiedene Fehlerquellen, die zu Qualitätsproblemen im Modell führen können. Die Grundlagen zu dieser Aufgabe findest du in Abschnitt 4.4 des Buches.\n",
    "\n",
    "## Ausgangssituation\n",
    "\n",
    "In einer **Checkliste**, mit der verschiedene **Fehlerquellen** in einem Datensatz aufgedeckt werden können, sind die verschiedenen Qualitätsaspekte und deren möglichen **Auswirkungen** auf ein KI-basiertes System durcheinandergeraten. Es ist nur noch eine Liste mit den Checkpunkten (Fragen nach Qualitätsaspekten) und eine Liste mit Auswirkungen vorhanden."
   ]
  },
  {
   "cell_type": "markdown",
   "id": "253ad13b-372f-455b-8e1c-cea6d7636a99",
   "metadata": {},
   "source": [
    "## Aufgabe"
   ]
  },
  {
   "cell_type": "markdown",
   "id": "081c0598-8677-4b7c-87d5-9754f2c7970c",
   "metadata": {},
   "source": [
    "**Ordne die Checklisten-Fragen zu den verschiedenen Datenqualitätsaspekten den möglichen Auswirkungen - wenn der jeweilige Aspekt nicht erfüllt ist - zu.**\n",
    "\n",
    "*Achtung:* Einem Qualitätsaspekt sind zwei Auswirkungen zuzuordnen."
   ]
  },
  {
   "cell_type": "markdown",
   "id": "12be81a3-2e59-4684-b625-ad8ea3229589",
   "metadata": {},
   "source": [
    "<div style=\"margin-left:1cm;float:left;width:60%\"><table>\n",
    "    <thead>\n",
    "        <tr>\n",
    "            <th colspan=\"2\" style=\"text-align:center;background-color:#f0f0f0\"><b>Qualitätsaspekt &ndash; Checkliste</b></th>\n",
    "        </tr>\n",
    "    </thead>\n",
    "    <tbody>\n",
    "        <tr>\n",
    "            <td style=\"width:fit-content;vertical-align:top;\">(1)</td>\n",
    "            <td>Wurden irrelevante Daten/Merkmale aus den Trainingsdaten entfernt?</td>\n",
    "        </tr>\n",
    "        <tr>\n",
    "            <td style=\"vertical-align:top;\">(2)</td>\n",
    "            <td>Sind die im Training verwendeten Daten so aufbereitet, dass Angreifer keine sensiblen Daten aus dem Modell ableiten oder zurückgewinnen können?</td>\n",
    "        </tr>\n",
    "        <tr>\n",
    "            <td style=\"vertical-align:top;\">(3)</td>\n",
    "            <td>Ist eine passende Datenvorverarbeitung für die Trainingsdaten durchgeführt worden?</td>\n",
    "        </tr>\n",
    "        <tr>\n",
    "            <td style=\"vertical-align:top;\">(4)</td>\n",
    "            <td>Sind meine Daten vollständig und sind alle relevanten Informationen im Datensatz vorhanden?</td>\n",
    "        </tr>\n",
    "        <tr>\n",
    "            <td style=\"vertical-align:top;\">(5)</td>\n",
    "            <td>Sind im Datensatz alle Szenarien/Fälle/Kategorien ausgewogen repräsentiert?</td>\n",
    "        </tr>\n",
    "        <tr>\n",
    "            <td style=\"vertical-align:top;\">(6)</td>\n",
    "            <td>Sind die Daten korrekt und aktuell?</td>\n",
    "        </tr>\n",
    "        <tr>\n",
    "            <td style=\"vertical-align:top;\">(7)</td>\n",
    "            <td>Spiegeln die Daten wider, was die KI lernen soll, oder sind die Daten durch den Zeitpunkt, den Ort oder die Umstände unfair und nicht für das Training repräsentativ?</td>\n",
    "        </tr>\n",
    "        <tr>\n",
    "            <td style=\"vertical-align:top;\">(8)</td>\n",
    "            <td>Werden dieselben Vorverarbeitungsschritte für die Trainingsdaten auch für den Test und den Betrieb angewendet?</td>\n",
    "        </tr>\n",
    "        <tr>\n",
    "            <td style=\"vertical-align:top;\">(9)</td>\n",
    "            <td>Hat der Datensatz eine ausreichende Variation in den Daten, sodass das zu erlernende Muster für das KI-basierte System erlernbar ist?</td>\n",
    "        </tr>\n",
    "        <tr>\n",
    "            <td style=\"vertical-align:top;\">(10)</td>\n",
    "            <td>Sind redundante Daten aus dem Datensatz entfernt?</td>\n",
    "        </tr>\n",
    "    </tbody>\n",
    "</table></div>\n",
    "<div style=\"float:right;width:30%\"><table>\n",
    "    <thead>\n",
    "        <tr>\n",
    "            <th colspan=\"2\" style=\"text-align:center;background-color:#f0f0f0\"><b>Auswirkung</b></th>\n",
    "        </tr>\n",
    "    </thead>\n",
    "    <tbody>\n",
    "        <tr><td>(a)</td><td>Verminderte Genauigkeit</td></tr>\n",
    "        <tr><td>(b)</td><td>Modell mit Bias</td></tr>\n",
    "        <tr><td>(c)</td><td>Kompromittiertes Modell</td></tr>\n",
    "    </tbody>\n",
    "</table>\n",
    "</div>\n"
   ]
  },
  {
   "cell_type": "markdown",
   "id": "b949d2fa-ac0d-4c51-862c-58fb53d8eb38",
   "metadata": {},
   "source": [
    "Prüfe, ob deine Zuordnung richtig ist, indem du die **Nummer des Qualitätsaspektes** und den **Buchstaben der Auswirkung in Anführungzeichen** in die Python-Funktion unten an den mit `...` gekennzeichneten Stellen eingibst."
   ]
  },
  {
   "cell_type": "code",
   "execution_count": null,
   "id": "dfea12e7-6696-4c80-98c0-136fc0e09706",
   "metadata": {
    "tags": [
     "Aufgabe"
    ]
   },
   "outputs": [],
   "source": [
    "from lib.aufgaben import antwort\n",
    "antwort(qualitätsaspekt=..., auswirkung=\"...\")   # gibt hier deine Antwort ein und schließe mit Strg-ENTER ab."
   ]
  },
  {
   "cell_type": "markdown",
   "id": "b9ad09e9-b5db-44af-9984-d38bf51e7518",
   "metadata": {
    "tags": []
   },
   "source": [
    "## Lösungen"
   ]
  },
  {
   "cell_type": "markdown",
   "id": "1de07cc9-1f17-4487-a9ae-006ce7f83e8d",
   "metadata": {
    "jupyter": {
     "source_hidden": true
    },
    "tags": [
     "Lösung"
    ]
   },
   "source": [
    "<table>\n",
    "    <thead>\n",
    "        <tr>\n",
    "            <th colspan=\"2\" style=\"text-align:center;background-color:#f0f0f0\"><b>Qualitätsaspekt &ndash; Checkliste</b></th>\n",
    "        </tr>\n",
    "    </thead>\n",
    "    <tbody>\n",
    "        <tr>\n",
    "            <td style=\"width:fit-content;vertical-align:top;\">(1)</td>\n",
    "            <td>Wurden irrelevante Daten/Merkmale aus den Trainingsdaten entfernt?\n",
    "                <br/><br/>\n",
    "                Wenn nicht, kann das als Folge <b>(a) Verminderte Genauigkeit</b> haben.\n",
    "                <em></em></td>\n",
    "        </tr>\n",
    "        <tr>\n",
    "            <td style=\"vertical-align:top;\">(2)</td>\n",
    "            <td>Sind die im Training verwendeten Daten so aufbereitet, dass Angreifer keine sensiblen Daten aus dem Modell ableiten oder zurückgewinnen können?\n",
    "                <br/><br/>\n",
    "                Wenn nicht, kann das als Folge ein <b>(c) Kompromittiertes Modell</b> haben.\n",
    "                <em></em></td>\n",
    "        </tr>\n",
    "        <tr>\n",
    "            <td style=\"vertical-align:top;\">(3)</td>\n",
    "            <td>Ist eine passende Datenvorverarbeitung für die Trainingsdaten durchgeführt worden?\n",
    "                <br/><br/>\n",
    "                Wenn nicht, kann das als Folge <b>(a) Verminderte Genauigkeit</b> haben.\n",
    "                <em></em></td>\n",
    "        </tr>\n",
    "        <tr>\n",
    "            <td style=\"vertical-align:top;\">(4)</td>\n",
    "            <td>Sind meine Daten vollständig und sind alle relevanten Informationen im Datensatz vorhanden?\n",
    "                <br/><br/>\n",
    "                Wenn nicht, kann das als Folge <b>(a) Verminderte Genauigkeit</b> oder ein <b>(b) Modell mit Bias</b> haben.\n",
    "                <em></em></td>\n",
    "        </tr>\n",
    "        <tr>\n",
    "            <td style=\"vertical-align:top;\">(5)</td>\n",
    "            <td>Sind im Datensatz alle Szenarien/Fälle/Kategorien ausgewogen repräsentiert?\n",
    "                <br/><br/>\n",
    "                Wenn nicht, kann das als Folge ein <b>(b) Modell mit Bias</b> haben.\n",
    "                <em></em></td>\n",
    "        </tr>\n",
    "        <tr>\n",
    "            <td style=\"vertical-align:top;\">(6)</td>\n",
    "            <td>Sind die Daten korrekt und aktuell?\n",
    "                <br/><br/>\n",
    "                Wenn nicht, kann das als Folge <b>(a) Verminderte Genauigkeit</b> haben.\n",
    "                <em></em></td>\n",
    "        </tr>\n",
    "        <tr>\n",
    "            <td style=\"vertical-align:top;\">(7)</td>\n",
    "            <td>Spiegeln die Daten wider, was die KI lernen soll, oder sind die Daten durch den Zeitpunkt, den Ort oder die Umstände unfair und nicht für das Training repräsentativ?\n",
    "                <br/><br/>\n",
    "                Wenn nicht, kann das als Folge ein <b>(b) Modell mit Bias</b> haben.\n",
    "                <em></em></td>\n",
    "        </tr>\n",
    "        <tr>\n",
    "            <td style=\"vertical-align:top;\">(8)</td>\n",
    "            <td>Werden dieselben Vorverarbeitungsschritte für die Trainingsdaten auch für den Test und den Betrieb angewendet?\n",
    "                <br/><br/>\n",
    "                Wenn nicht, kann das als Folge <b>(a) Verminderte Genauigkeit</b> haben.\n",
    "                <em></em></td>\n",
    "        </tr>\n",
    "        <tr>\n",
    "            <td style=\"vertical-align:top;\">(9)</td>\n",
    "            <td>Hat der Datensatz eine ausreichende Variation in den Daten, sodass das zu erlernende Muster für das KI-basierte System erlernbar ist?\n",
    "                <br/><br/>\n",
    "                Wenn nicht, kann das als Folge ein <b>(b) Modell mit Bias</b> haben.\n",
    "                <em></em></td>\n",
    "        </tr>\n",
    "        <tr>\n",
    "            <td style=\"vertical-align:top;\">(10)</td>\n",
    "            <td>Sind redundante Daten aus dem Datensatz entfernt?\n",
    "                <br/><br/>\n",
    "                Wenn nicht, kann das als Folge ein <b>(b) Modell mit Bias</b> haben.\n",
    "                <em></em></td>\n",
    "        </tr>\n",
    "    </tbody>\n",
    "</table>"
   ]
  }
 ],
 "metadata": {
  "kernelspec": {
   "display_name": "Python 3 (ipykernel)",
   "language": "python",
   "name": "python3"
  },
  "language_info": {
   "codemirror_mode": {
    "name": "ipython",
    "version": 3
   },
   "file_extension": ".py",
   "mimetype": "text/x-python",
   "name": "python",
   "nbconvert_exporter": "python",
   "pygments_lexer": "ipython3",
   "version": "3.7.6"
  }
 },
 "nbformat": 4,
 "nbformat_minor": 5
}
