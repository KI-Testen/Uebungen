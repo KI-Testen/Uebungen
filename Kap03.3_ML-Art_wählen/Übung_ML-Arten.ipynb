{
 "cells": [
  {
   "cell_type": "markdown",
   "id": "16e3e639-5f26-4593-b371-77759c8af973",
   "metadata": {
    "tags": []
   },
   "source": [
    "# Übung zu Kapitel 3.3 - Wahl der passenden ML-Art\n",
    "\n",
    "*Eine Übung zum Buch \"[Basiswissen KI-Testen - Qualität von und mit KI-basierten Systemen](https://dpunkt.de/produkt/basiswissen-ki-testen/)\", ISBN 978-3-86490-947-4*\n",
    "\n",
    "In dieser Übung geht es darum, die passende Art des maschinellen Lernens (ML) für ein beschriebenes Szenario zu finden. Die Grundlagen zu dieser Aufgabe findest du in Abschnitt 3.3 des Buches."
   ]
  },
  {
   "cell_type": "markdown",
   "id": "01f0837e-bc07-4e65-b461-379bc7bfa67e",
   "metadata": {},
   "source": [
    "**Welche ML-Arten gibt es?** Das ist tatsächlich nicht fest definiert und wird teilweise unterschiedlich angegeben. Grundsätzlich gibt es aber einen breiten Konsens zu folgender Einteilung, die auch im ISTQB<sup>&reg;</sup>-Lehrplan beschrieben ist:\n",
    "\n",
    "![Image](data/3.1_Arten_von_ML_1.png)"
   ]
  },
  {
   "cell_type": "markdown",
   "id": "646efaa7-c26e-40ad-92fb-9102e37aa629",
   "metadata": {},
   "source": [
    "## Aufgabe"
   ]
  },
  {
   "cell_type": "markdown",
   "id": "56a4f688-6aed-471b-8c28-657126b26290",
   "metadata": {},
   "source": [
    "Zu den sieben folgenden Szenarien sind die dazu passenden ML-Arten in der zweiten Tabelle aufgelistet. Ordne die ML-Arten ihren Szenarien zu!\n",
    "\n",
    "**Achtung:** Manche ML-Arten kommen mehrmals als Lösung vor, aber alle mindestens ein Mal.\n",
    "\n",
    "\n",
    "<div style=\"margin-left:1cm;float:left;width:60%\"><table>\n",
    "    <thead>\n",
    "        <tr>\n",
    "            <th colspan=\"2\" style=\"text-align:center;background-color:#f0f0f0\"><b>Szenarien</b></th>\n",
    "        </tr>\n",
    "    </thead>\n",
    "    <tbody>\n",
    "        <tr>\n",
    "            <td style=\"width:fit-content;vertical-align:top;\">(1)</td>\n",
    "            <td>Es soll ein Algorithmus trainiert werden, der verdorbenes Obst erkennt. Dafür steht ein mit den Klassen <em>verdorben</em> und <em>nicht-verdorben</em> (Kennzeichen-Ausgabe) korrekt gekennzeichneter/annotierter Datensatz von Obstbildern zur Verfügung.</td>\n",
    "        </tr>\n",
    "        <tr>\n",
    "            <td style=\"vertical-align:top;\">(2)</td>\n",
    "            <td>Ein Algorithmus soll in einem strategischen Spiel seine Züge entsprechend der gegnerischen Spielstrategie so anpassen, dass er gewinnt.</td>\n",
    "        </tr>\n",
    "        <tr>\n",
    "            <td style=\"vertical-align:top;\">(3)</td>\n",
    "            <td>Es soll ein Algorithmus trainiert werden, der aufgrund der Berufserfahrung in Jahren das Gehalt als numerische und kontinuierliche Ausgabe in Euro ermittelt.</td>\n",
    "        </tr>\n",
    "        <tr>\n",
    "            <td style=\"vertical-align:top;\">(4)</td>\n",
    "            <td>Es soll ein Datensatz mit Informationen zum Inhalt der Warenkörbe von Kunden analysiert werden, ohne dass eine vorformulierte Ausgabe vorgesehen ist. Es sollen anhand von gemeinsam auftretenden Merkmalen Beziehungen und Abhängigkeiten abgeleitet werden.</td>\n",
    "        </tr>\n",
    "        <tr>\n",
    "            <td style=\"vertical-align:top;\">(5)</td>\n",
    "            <td>Ein Algorithmus soll Zelltypen aus einer Biopsie anhand der Genexpression in die zwei diskreten Kategorien <em>entartete</em> Zelle und <em>nicht-entartete</em> Zelle sortieren. </td>\n",
    "        </tr>\n",
    "        <tr>\n",
    "            <td style=\"vertical-align:top;\">(6)</td>\n",
    "            <td>Ein Datensatz enthält Kundeninformationen zum Kaufverhalten, die nach Kundentyp gruppiert werden sollen.</td>\n",
    "        </tr>\n",
    "        <tr>\n",
    "            <td style=\"vertical-align:top;\">(7)</td>\n",
    "            <td>Eine intelligente Raumklimaregulierung in einem Großraumbüro passt durch die Parameter Temperatur, Luftfeuchtigkeit und Jalousien das Raumklima so an, dass möglichst viele Mitarbeiter das Raumklima positiv bewerten.</td>\n",
    "        </tr>\n",
    "    </tbody>\n",
    "</table></div>\n",
    "<div style=\"float:right;width:30%\"><table>\n",
    "    <thead>\n",
    "        <tr>\n",
    "            <th colspan=\"2\" style=\"text-align:center;background-color:#f0f0f0\"><b>ML-Arten</b></th>\n",
    "        </tr>\n",
    "    </thead>\n",
    "    <tbody>\n",
    "        <tr><td style=\"width:fit-content\">[A]</td><td>Überwachtes Lernen: Regression</td></tr>\n",
    "        <tr><td>[B]</td><td>Überwachtes Lernen: Klassifikation</td></tr>\n",
    "        <tr><td>[C]</td><td>Unüberwachtes Lernen: Clustering</td></tr>\n",
    "        <tr><td>[D]</td><td>Unüberwachtes Lernen: Assoziation</td></tr>\n",
    "        <tr><td>[E]</td><td>Bestärkendes Lernen</td></tr>\n",
    "    </tbody>\n",
    "</table>\n",
    "</div>\n",
    "\n"
   ]
  },
  {
   "cell_type": "markdown",
   "id": "d352bcbc-0044-4a0a-b7c9-d8225d94fa71",
   "metadata": {},
   "source": [
    "Prüfe, ob deine Zuordnung richtig ist, indem du die **Nummer des Szenarios** und den **Buchstaben der ML-Art in Anführungszeichen** in die python-Funktion unten an den mit `...` gekennzeichneten Stellen eingibst."
   ]
  },
  {
   "cell_type": "code",
   "execution_count": null,
   "id": "78467577-3eb1-43a4-ac0a-a157ef30b8f0",
   "metadata": {
    "tags": [
     "Aufgabe"
    ]
   },
   "outputs": [],
   "source": [
    "from lib.aufgaben import antwort\n",
    "antwort(szenario=7, mlart="E")   # gibt hier deine Antwort ein und schließe mit Strg-ENTER ab."
   ]
  },
  {
   "cell_type": "markdown",
   "id": "a98b172a-0bda-4007-adde-7db45ed9c286",
   "metadata": {
    "tags": []
   },
   "source": [
    "## Lösungen"
   ]
  },
  {
   "cell_type": "markdown",
   "id": "04e1e70c-223c-4e7b-bd61-4f8f69ded988",
   "metadata": {
    "jupyter": {
     "source_hidden": true
    },
    "tags": [
     "Lösung"
    ]
   },
   "source": [
    "**Szenarien:**\n",
    "\n",
    "<table>\n",
    "    <tr><td style=\"vertical-align:top\">\n",
    "        (1)</td><td>Es soll ein Algorithmus trainiert werden, der verdorbenes Obst erkennt. Dafür steht ein mit den Klassen <em>verdorben</em> und <em>nicht-verdorben</em> (Kennzeichen-Ausgabe) korrekt gekennzeichneter/annotierter Datensatz von Obstbildern zur Verfügung.\n",
    "        <br/><br/>Die passende ML-Art hierfür ist <b>Überwachtes Lernen: Klassifikation</b> [B].\n",
    "        <br/><em>Erklärung: Für das Training des Algorithmus ist ein Datensatz vorhanden, der zudem gekennzeichnet ist. Daher können wir überwachtes Lernen anwenden. Da die Ausgaben des Algorithmus eine eingegrenzte Menge unterscheidbarer Klassen (verdorben, nicht-verdorben) ist, handelt es sich um eine Klassifikation.</em></td></tr>\n",
    "    <tr><td style=\"vertical-align:top\">\n",
    "        (2)</td><td>Ein Algorithmus soll in einem strategischen Spiel seine Züge entsprechend der gegnerischen Spielstrategie so anpasst, dass er gewinnt.\n",
    "        <br/><br/>Die passende ML-Art hierfür ist das <b>Bestärkende Lernen</b> [E]\n",
    "       <br/><em>Erklärung: Beim Training des Algorithmus soll eine Strategie entwickelt werden, um das Spiel zu gewinnen. Die Spielregeln und das Verhalten des Gegners stellen dabei eine definierte Umgebung dar, mit der der Algorithmus interagieren kann. Die Belohnungsfunktion wird durch das Gewinnen des Spiels definiert. Strategische Spiele sind klassische Beispiele für das bestärkende Lernen.</em></td></tr>\n",
    "    <tr><td style=\"vertical-align:top\">\n",
    "        (3)</td><td>Es soll ein Algorithmus trainiert werden, der aufgrund der Berufserfahrung in Jahren das Gehalt als numerische und kontinuierliche Ausgabe in Euro ermittelt.\n",
    "        <br/><br/>Die passende ML-Art hierfür ist <b>Überwachtes Lernen: Regression</b> [A]\n",
    "      <br/><em>Erklärung: Da es sich hier um einen Algorithmus handelt, der einen numerischen und kontinuierlichen Zusammenhang darzustellen soll, handelt es sich um Regression. Hierbei wird angenommen, dass ein Datensatz mit dem Gehalt in Abhängigkeit von den Berufsjahren vorliegt (überwachtes Lernen). Beim überwachten Lernen unterscheidet sich Regression von Klassifikation dadurch, dass bei der Regression kontinuierliche Daten als Ausgabe erzeugt werden, während bei der Klassifikation eine diskrete und kategoriale Ausgabe vorgesehen ist.</em></td></tr>\n",
    "    <tr><td style=\"vertical-align:top\">\n",
    "        (4)</td><td>Es soll ein Datensatz mit Informationen zum Inhalt der Warenkörbe von Kunden analysiert werden, ohne dass eine vorformulierte Ausgabe vorgesehen ist. Es sollen anhand von gemeinsam auftretenden Merkmalen Beziehungen und Abhängigkeiten abgeleitet werden.\n",
    "        <br/><br/>Die passende ML-Art hierfür ist <b>Unüberwachtes Lernen: Assoziation</b> [D]\n",
    "       <br/><em>Erklärung: Da keine vordefinierte Ausgabe vorliegt, handelt es sich hier um eine Form des unüberwachten Lernens. Da hier Beziehungen und Abhängigkeiten abgeleitet werden sollen (z.&nbsp;B. in Form von Regeln wie \"Warenkörbe, die Produkt A enthalten, enthalten auch oft Produkt B\"), handelt es sich um Assoziation. Es handelt sich nicht um Clusterbildung, da es hier nicht um die Gruppierung von Warenkörben geht, sondern um die Analyse von Zusammenhängen zwischen verschiedenen Variablen, die einen Warenkorb beschreiben.</em></td></tr>\n",
    "    <tr><td style=\"vertical-align:top\">\n",
    "        (5)</td><td>Ein Algorithmus soll Zelltypen aus einer Biopsie anhand der Genexpression in die zwei diskreten Kategorien entartete Zelle und nicht-entartete Zelle sortieren.\n",
    "        <br/><br/>Die passende ML-Art hierfür ist <b>Überwachtes Lernen: Klassifikation</b> [B]\n",
    "      <br/><em>Erklärung: Für den Algorithmus sind hier zwei voneinander klar abgegrenzte (diskrete und kategoriale) Ausgabeklassen vorgesehen. Daher handelt es sich um eine Klassifikation. Hierbei wird angenommen, dass ein gekennzeichneter Datensatz zum Training und Test vorliegt (überwachtes Lernen).</em></td></tr>\n",
    "    <tr><td style=\"vertical-align:top\">\n",
    "        (6)</td><td>Ein Datensatz enthält Kundeninformationen zum Kaufverhalten, die nach Kundentyp gruppiert werden sollen.\n",
    "        <br/><br/>Die passende ML-Art hierfür ist <b>Unüberwachtes Lernen: Clustering</b> [C]\n",
    "       <br/><em>Erklärung: Hier geht es darum, ähnliche Datenpunkte zu Gruppen (Clustern) zusammenzufassen. Die Gruppen sind nicht vorgegeben, daher handelt es sich um eine Form des unüberwachten Lernens und nicht um eine Klassifikation.</em></td></tr>\n",
    "    <tr><td style=\"vertical-align:top\">\n",
    "        (7)</td><td>Eine intelligente Raumklimaregulierung in einem Großraumbüro passt durch die Parameter Temperatur, Luftfeuchtigkeit und Jalousien das Raumklima so an, dass möglichst viele Mitarbeiter das Raumklima positiv bewerten.\n",
    "        <br/><br/>Die passende ML-Art hierfür ist das <b>Bestärkende Lernen</b> [E]\n",
    "       <br/><em>Erklärung: Hier wird ein Algorithmus gesucht, der durch Interaktionen mit der Umgebung (Anpassen von Raumparametern) das Raumklima so verändern soll, dass es positiv bewertet wird. Die Belohnungsfunktion wird durch die Bewertung der Mitarbeiter bereitgestellt. Wenn in der Szenariobeschreibung historische Daten erwähnt worden wären, wäre auch ein Optimierungsalgorithmus des überwachten Lernens eine gute Wahl.</em></td></tr>\n",
    "</table>\n",
    "\n"
   ]
  }
 ],
 "metadata": {
  "kernelspec": {
   "display_name": "Python 3 (ipykernel)",
   "language": "python",
   "name": "python3"
  },
  "language_info": {
   "codemirror_mode": {
    "name": "ipython",
    "version": 3
   },
   "file_extension": ".py",
   "mimetype": "text/x-python",
   "name": "python",
   "nbconvert_exporter": "python",
   "pygments_lexer": "ipython3",
   "version": "3.11.0"
  }
 },
 "nbformat": 4,
 "nbformat_minor": 5
}
