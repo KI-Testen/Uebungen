{
    "cells": [
        {
            "cell_type": "markdown",
            "id": "748e149b-e84d-4458-8e96-9f6893640423",
            "metadata": {
                "tags": []
            },
            "source": [
                "# \u00dcbung zu Kapitel 3.5 - Demonstration von Overfitting und Underfitting\n",
                "*Eine \u00dcbung zum Buch \"[Basiswissen KI-Testen - Qualit\u00e4t von und mit KI-basierten Systemen](https://dpunkt.de/produkt/basiswissen-ki-testen/)\", ISBN 978-3-86490-947-4*\n",
                "\n",
                "In dieser \u00dcbung wollen wir dir das Prinzip von **Over-** und **Underfitting** anhand einpr\u00e4gsamer und anschaulicher Beispiele demonstrieren. Daf\u00fcr verwenden wir einen kleinen Datensatz und einfache KI-Modelle. Der verwendete Datensatz enth\u00e4lt lediglich ein Eingabemerkmal und ein Ausgabemerkmal. So k\u00f6nnen wir den Datensatz in einem zweidimensionalen Plot darstellen und mit blo\u00dfem Auge das Muster in den Daten erkennen. Bei den verwendeten KI-Modellen handelt es sich um **Regressionsmodelle**. Grundwissen \u00fcber [Polynomfunktionen](https://de.wikipedia.org/wiki/Polynom) reicht dabei aus, um das Verhalten der Modelle nachvollziehen zu k\u00f6nnen. \n",
                "\n",
                "*Hinweis:* Auch wenn die Verwendung von Regressionsmodellen banal erscheint und ihnen h\u00e4ufig die Magie der K\u00fcnstlichen Intelligenz aberkannt wird, sind diese g\u00e4ngige Modelle im Maschinellen Lernen. Wenn wir anhand der folgenden \u00dcbung das Prinzip von Over- und Underfitting verstanden haben, k\u00f6nnen wir dieses Prinzip auf beliebig komplexe Datens\u00e4tze und ML-Modelle \u00fcbertragen.\n",
                "\n",
                "Die \u00dcbung ist in drei Schritte eingeteilt:\n",
                "1. Aufgabe 1: Vorbereitung und Trainingsdatensatz\n",
                "2. Aufgabe 2a: Regressionsmodelle ausprobieren\n",
                "3. Aufgabe 2b: Regressionsmodelle f\u00fcr andere Trainingsdaten ausprobieren\n"
            ]
        },
        {
            "cell_type": "markdown",
            "id": "cdb48547-acee-4ff2-97c5-339dd352ab09",
            "metadata": {
                "tags": []
            },
            "source": [
                "## Aufgabe 1: Vorbereitung"
            ]
        },
        {
            "cell_type": "markdown",
            "id": "0d14a274-e621-449a-9d15-0ee3ddc93952",
            "metadata": {
                "tags": []
            },
            "source": [
                "**Laden der Funktionsbibliotheken**\n",
                "\n",
                "In dieser und in den folgenden \u00dcbungen verwenden wir *Funktionen aus der freien Software-Bibliothek scikit-learn*, auch abgek\u00fcrzt sklearn, die zum maschinellen Lernen mit der Programmiersprache Python h\u00e4ufig Verwendung findet. Die in der scikit-learn-Bibliothek bereitgestellten Funktionen sowie Funktionen aus den Bibliotheken *numpy*, *pandas* und *matplotlib* helfen uns in dieser und in den folgenden \u00dcbungen bei der Implementierung unserer ML-Modelle und der Visualisierung der Daten.\n",
                "\n",
                "[<img src=\"https://numpy.org/doc/stable/_static/numpylogo.svg\" alt=\"Numpy\" width=\"80\" height=\"24\">](https://numpy.org/doc/stable/reference/index.html#reference)\n",
                "&emsp; [<img src=\"https://pandas.pydata.org/docs/_static/pandas.svg\" alt=\"pandas\" width=\"80\" height=\"24\">](https://pandas.pydata.org/docs/reference/index.html)\n",
                "&emsp; [<img src=\"https://matplotlib.org/_static/logo_light.svg\" alt=\"Matplotlib\" width=\"100\" height=\"24\">](https://matplotlib.org/)\n",
                "&emsp; [<img src=\"https://scikit-learn.org/stable/_static/scikit-learn-logo-small.png\" alt=\"Scikit-learn\" width=\"80\" height=\"24\">](https://scikit-learn.org/stable/modules/classes.html)\n"
            ]
        },
        {
            "cell_type": "code",
            "execution_count": null,
            "id": "9bee4e6a-5616-4a66-a695-596ac81292ad",
            "metadata": {},
            "outputs": [],
            "source": [
                "# Laden aller n\u00f6tigen Bibliothekn \n",
                "import numpy             as np\n",
                "import pandas            as pd\n",
                "import matplotlib.pyplot as plt\n",
                "from sklearn.model_selection import train_test_split"
            ]
        },
        {
            "cell_type": "markdown",
            "id": "4a4ebdaa-3c17-49f3-92d2-5bd32fdb9b85",
            "metadata": {
                "tags": []
            },
            "source": [
                "**Erstellen eines Datensatzes mit einem quadratischen Zusammenhang zwischen Eingaben und Ausgaben**\n",
                "\n",
                "Als Erstes generieren wir einen Datensatz, mit den Eingabewerten *X* und den dazugeh\u00f6rigen Ausgabewerten *y*. Diese sollen einen *quadratischen*\n",
                "Zusammenhang haben. So wie h\u00e4ufig in der Realit\u00e4t, sind auch unsere Ausgabewerte *y* nicht ganz perfekt, sondern variieren in den Ausgabedaten durch eine zuf\u00e4llige Abweichung. Dies k\u00f6nnen wir im folgenden Plot sehen."
            ]
        },
        {
            "cell_type": "code",
            "execution_count": null,
            "id": "3ffe8bb7-6bde-453f-b29a-f82a10670f15",
            "metadata": {
                "tags": []
            },
            "outputs": [],
            "source": [
                "# Wir definieren eine quadratische Funktion, die den Zusammenhang zwischen Eingang (X) und R\u00fcckgabewert darstellt:\n",
                "def f(x):\n",
                "   return (x-5)**2\n",
                "\n",
                "# Wir generieren unsere Daten als Eingabewerte (X) und Ausgabewerte (y)\n",
                "X = np.arange(0,10.5,0.5)                  # den Wertebereich f\u00fcr die Eingabewerte (X) festlegen\n",
                "np.random.seed(42)                         # den Startwert des Zufallsgenerators festlegen\n",
                "y = f(X) + np.random.normal(0,1.5,len(X))  # Ausgabewerte (y) aus f und addierten Zufallszahlen (Rauschen) erzeugen\n",
                "\n",
                "# Die folgenden Zeilen erzeugen ein Diagramm mit dem gerade erzeugten Datensatz als Punkte und der\n",
                "# zugrundeliegenden quadratischen Funktion als Linie, die den idealen Zusammenhang zeigen soll.\n",
                "plt.plot(X, f(X), color='gray', label=\"Idealer quadratischer Zusammenhang\")\n",
                "plt.scatter(X,y, label=\"Datenpunkte\")\n",
                "plt.xlabel(\"X\")\n",
                "plt.ylabel(\"y\")\n",
                "plt.legend()\n",
                "plt.show()"
            ]
        },
        {
            "cell_type": "markdown",
            "id": "3f7333b9-d017-41fd-bda8-50c203bac449",
            "metadata": {
                "tags": []
            },
            "source": [
                "**Aufteilen der Daten in Trainings- und Testdaten**\n",
                "\n",
                "Im Folgenden wollen wir Modelle trainieren, die das Muster in den Daten m\u00f6glichst gut erkennen und m\u00f6glichst nahe an den idealen quadratischen Zusammenhang herankommen. Bevor wir ein Modell trainieren, teilen wir unseren Datensatz in die Trainingsdaten (*X_train* und *y_train*)  und Testdaten (*X_test* und *y_test*) auf. Daf\u00fcr verwenden wir die scikit-learn-Funktion [*train_test_split*](https://scikit-learn.org/stable/modules/generated/sklearn.model_selection.train_test_split.html).\n",
                "\n",
                "*Hinweis:* Mehr zum Aufteilen von Trainings- und Testdaten kannst du in der \u00dcbung 4.2 erfahren. Hier reicht es, nur die Funktion anzuwenden."
            ]
        },
        {
            "cell_type": "code",
            "execution_count": null,
            "id": "80b0f41b-1cbb-4592-b395-e3b726b1e1ef",
            "metadata": {},
            "outputs": [],
            "source": [
                "# Wir teilen Eingabe- (X) und Ausgabedaten (y) in jeweils 70% Trainings- und 30% Testdaten auf:\n",
                "X_train, X_test, y_train, y_test = train_test_split(X, y, test_size=0.3, shuffle=False)\n",
                "plt.scatter(X_train,y_train, label = \"Trainingsdaten\")\n",
                "plt.scatter(X_test,y_test, facecolors='none', edgecolors='gray', label=\"Testdaten\")\n",
                "plt.xlabel(\"X\")\n",
                "plt.ylabel(\"y\")\n",
                "plt.legend()\n",
                "plt.show()"
            ]
        },
        {
            "cell_type": "markdown",
            "id": "5834a4c2-6523-466f-9b6a-02b1dc9d63ce",
            "metadata": {},
            "source": [
                "**Training verschiedener Modelle vorbereiten**\n",
                "\n",
                "Wir erstellen gleich mehrere Regressions-Modelle mit unterschiedlicher Komplexit\u00e4t, um zu beobachten, wie gut sich die verschiedenen Modelle an das Muster in den Daten anpassen. Daf\u00fcr implementieren wir die Funktion `Modell_Regression` mit dem Parameter `grad`, der den Grad der Polynomfunktion darstellt. Je gr\u00f6\u00dfer du den Parameter `grad` w\u00e4hlst, desto 'komplexer' wird das Modell.\n",
                "Zum Trainieren der Modelle verwenden wir die numpy-Funktion [*polyfit*](https://numpy.org/doc/stable/reference/generated/numpy.polyfit.html), die das am besten zu den Trainingsdaten passende Modell f\u00fcr den angegeben Grad ermittelt. \n",
                "Diese Funktion werden wir in den n\u00e4chsten Aufgaben verwenden."
            ]
        },
        {
            "cell_type": "code",
            "execution_count": null,
            "id": "58b6e0ec-ba13-4918-afbd-8be8a387f0fb",
            "metadata": {},
            "outputs": [],
            "source": [
                "# Definition einer Funktion zum Regressionsmodell-Training und grafische Anzeige des trainierten Modells\n",
                "def Modell_Regression(grad):\n",
                "    p = np.poly1d(np.polyfit(X_train,y_train,grad))\n",
                "    plt.scatter(X_train,y_train,label=\"Trainingsdaten\")\n",
                "    plt.scatter(X_test,y_test, facecolors='none', edgecolors='gray', label=\"Testdaten\")    \n",
                "    curve_x = np.arange(min(X) -1,max(X)+1,0.01)\n",
                "    plt.plot(curve_x,p(curve_x),label=\"Polynomialen Regression vom Grad {}\".format(grad))\n",
                "    plt.xlim((np.min(X)-0.5,np.max([np.max(X), np.max(curve_x)])+0.5))\n",
                "    plt.ylim((np.min(y)-1.5,np.max(y)+1.5))\n",
                "    plt.xlabel(\"X\")\n",
                "    plt.ylabel(\"y\")\n",
                "    plt.legend()\n",
                "    plt.plot()\n",
                "    return np.poly1d(np.polyfit(X_train,y_train,grad))"
            ]
        },
        {
            "cell_type": "markdown",
            "id": "26688af7-3b71-4e2d-b5f2-5920dde482b7",
            "metadata": {},
            "source": [
                "## Aufgabe 2a: Regressionsmodelle ausprobieren\n",
                "Probiere nun verschiedene Polynomfunktionen aus, indem du f\u00fcr den Parameter `grad = ...` verschiedene Werte (z.B. 0,1,2,3,4, etc.) setzt, und beobachte dabei, wie gut sich das Modell an die Trainingsdaten anpasst! Wie gut werden die Testdaten von den Modellen abgesch\u00e4tzt?"
            ]
        },
        {
            "cell_type": "code",
            "execution_count": null,
            "id": "9a1aae2a-e4ab-425b-8487-3ce2438c1f76",
            "metadata": {
                "tags": [
                    "Aufgabe"
                ]
            },
            "outputs": [],
            "source": [
                "Modell_Regression(grad = ...);"
            ]
        },
        {
            "cell_type": "code",
            "execution_count": null,
            "id": "1a0e6eb9-4098-4ce6-ad99-0a894ed75a7d",
            "metadata": {
                "tags": [
                    "L\u00f6sung"
                ],
                "jupyter": {
                    "source_hidden": true
                }
            },
            "outputs": [],
            "source": [
                "# Um die L\u00f6sung anzuzeigen, bitte diese Zelle zweimal ausf\u00fchren\n",
                "%load L\u00f6sungen/L\u00f6sung01.py"
            ]
        },
        {
            "cell_type": "markdown",
            "id": "62bcc6ab-ce55-4898-8b50-bd6bfecf76e6",
            "metadata": {},
            "source": [
                "Wenn du ein Gef\u00fchl f\u00fcr das Verhalten der Modelle mit unterschiedlichem Grad der Polynomfunktion entwickelt hast, wollen wir gemeinsam das Verhalten der verschiedenen Modelle beleuchten."
            ]
        },
        {
            "cell_type": "markdown",
            "id": "b0eda2fd-bb2c-4e7f-bb83-0641210033a3",
            "metadata": {},
            "source": [
                "**Modell mit Polynomfunktion vom Grad 0**\n",
                "\n",
                "Als Erstes schauen wir ein sehr einfaches Modell mit *grad* = 0 an, also eine Konstante als Ausgabe."
            ]
        },
        {
            "cell_type": "code",
            "execution_count": null,
            "id": "67b15fed-ee4d-467d-aeab-9fcc2eb21c60",
            "metadata": {},
            "outputs": [],
            "source": [
                "Modell_Regression(grad = 0);"
            ]
        },
        {
            "cell_type": "markdown",
            "id": "d9635df9-cef4-404b-a1eb-c2cb78cb04ed",
            "metadata": {
                "tags": [
                    "Aufgabe"
                ]
            },
            "source": [
                "**Frage:** Wie gut passt sich das Modell mit Grad 0 an die Trainingsdaten und an die Testdaten an? Handelt es sich um *Overfitting* oder um *Underfitting*? Warum passt sich das Modell so schlecht an die Daten an? "
            ]
        },
        {
            "cell_type": "markdown",
            "id": "23b854ab-ae15-4bbd-8085-c8f1eb2c83f1",
            "metadata": {
                "tags": []
            },
            "source": [
                "***L\u00f6sung:** Klicke auf die folgende Zelle (...) um sie sichtbar zu machen*"
            ]
        },
        {
            "cell_type": "markdown",
            "id": "9a0a9206-0bfc-4dcd-b0a1-26b7db1f1d0e",
            "metadata": {
                "jp-MarkdownHeadingCollapsed": true,
                "tags": [
                    "L\u00f6sung"
                ],
                "jupyter": {
                    "source_hidden": true
                }
            },
            "source": [
                "Das Modell passt sich sowohl an die Trainings- als auch an die Testdaten nur unzureichend an. Daher handelt es sich um ein **Underfitting**. Grund daf\u00fcr ist, dass das Modell zu simpel gew\u00e4hlt ist, um das Muster in den Trainingsdaten widerzuspiegeln."
            ]
        },
        {
            "cell_type": "markdown",
            "id": "0a174e42-4deb-4ed5-a06c-958603d7cac7",
            "metadata": {},
            "source": [
                "**Modell mit Polynomfunktion vom Grad 1**"
            ]
        },
        {
            "cell_type": "code",
            "execution_count": null,
            "id": "d67ba750-f827-43b6-a798-e7cf9dce0ec3",
            "metadata": {},
            "outputs": [],
            "source": [
                "Modell_Regression(grad = 1);"
            ]
        },
        {
            "cell_type": "markdown",
            "id": "4142b8bc-8b80-4997-9b4b-8bc7dd782f24",
            "metadata": {
                "tags": [
                    "Aufgabe"
                ]
            },
            "source": [
                "**Frage:** Wie gut passt sich das Modell an die Trainingsdaten und an die Testdaten an? Handelt es sich um *Overfitting* oder um *Underfitting*? Warum passt sich das Modell so schlecht an die Daten an?"
            ]
        },
        {
            "cell_type": "markdown",
            "id": "c325cdce-2a55-476e-afff-af4fcb32c4f0",
            "metadata": {},
            "source": [
                "***L\u00f6sung:** Klicke auf die folgende Zelle (...) um sie sichtbar zu machen*"
            ]
        },
        {
            "cell_type": "markdown",
            "id": "0eb320e8-647e-4ce7-8eb5-bdeb633d8cf8",
            "metadata": {
                "tags": [
                    "L\u00f6sung"
                ],
                "jupyter": {
                    "source_hidden": true
                }
            },
            "source": [
                "W\u00e4hrend sich das Modell gut an die Trainingsdaten anpasst, spiegelt es den Zusammenhang in den Testdaten gar nicht wider. Daher handelt es sich hier um **Overfitting**. Grund daf\u00fcr ist, dass der Trainingssatz nicht gen\u00fcgend Datenpunkte und Informationen enth\u00e4lt, um das tats\u00e4chliche Muster in den Daten darzustellen."
            ]
        },
        {
            "cell_type": "markdown",
            "id": "4269c0e5-1245-4a2e-b771-a270aa78bd14",
            "metadata": {
                "tags": []
            },
            "source": [
                "**Modell mit Polynomfunktion vom Grad 2**\n",
                "\n",
                "Mit etwas Wissen \u00fcber den Datensatz kann man vor dem Modelltraining die Annahme treffen, dass wir ein Modell verwenden sollten, das einen quadratischen Zusammenhang darstellen kann."
            ]
        },
        {
            "cell_type": "code",
            "execution_count": null,
            "id": "fe8fd4fb-123b-4e0a-93ab-d6909dd048e4",
            "metadata": {},
            "outputs": [],
            "source": [
                "Modell_Regression(grad = 2);"
            ]
        },
        {
            "cell_type": "markdown",
            "id": "aa1e8507-3b8c-436d-8704-9e564ae80e9b",
            "metadata": {
                "tags": [
                    "Aufgabe"
                ]
            },
            "source": [
                "**Frage:** Wie gut passt sich das Modell an die Trainingsdaten und an die Testdaten an? Handelt es sich um *Overfitting* oder um *Underfitting*? Warum passt sich das Modell so schlecht an die Daten an?"
            ]
        },
        {
            "cell_type": "markdown",
            "id": "a70cf4fd-40cb-4bca-bd57-1144da58c7b0",
            "metadata": {},
            "source": [
                "***L\u00f6sung:** Klicke auf die folgende Zelle (...) um sie sichtbar zu machen*"
            ]
        },
        {
            "cell_type": "markdown",
            "id": "b21ca30b-2d58-421c-bc17-9d3d1a605a78",
            "metadata": {
                "tags": [
                    "L\u00f6sung"
                ],
                "jupyter": {
                    "source_hidden": true
                }
            },
            "source": [
                "Obwohl wir ein Modell gew\u00e4hlt haben, das den Zusammenhang in den Daten (grob) widerspiegelt, hat sich das Modell immer noch besser an die Trainingsdaten als an die Testdaten angepasst. Daher sprechen wir auch hier von einem **Overfitting**. Grund f\u00fcr das Overfitting ist, dass der Trainingsdatensatz nicht gen\u00fcgend Daten enth\u00e4lt. Der Datensatz ist so aufgeteilt, dass im Trainingsdatensatz zu wenig der entscheidenden Informationen \u00fcber den Zusammenhang zwischen Eingabedaten X und Ausgabedaten y enthalten sind. Der rechte Arm der Parabel ist nicht ausreichend in den Trainingsdaten repr\u00e4sentiert."
            ]
        },
        {
            "cell_type": "markdown",
            "id": "bd55aef0-4144-4d28-98b0-9425466705c8",
            "metadata": {},
            "source": [
                "## Aufgabe 2b: Regressionsmodelle mit anderen Trainingsdaten ausprobieren\n",
                "F\u00fcr ein erneutes Training teilen wir die Daten *zuf\u00e4llig* in die Trainings- und Testdaten auf. Setze daf\u00fcr in der folgenden Funktion [*train_test_split*](https://scikit-learn.org/stable/modules/generated/sklearn.model_selection.train_test_split.html) den Parameter *shuffle* (auf Deutsch *mischen*) auf *True*."
            ]
        },
        {
            "cell_type": "code",
            "execution_count": null,
            "id": "4d7ce02e-dbd3-4211-ad98-cfe7a298c73f",
            "metadata": {
                "tags": [
                    "Aufgabe"
                ]
            },
            "outputs": [],
            "source": [
                "X_train, X_test, y_train, y_test = train_test_split(X, y, test_size=0.3, shuffle=..., random_state=42)"
            ]
        },
        {
            "cell_type": "code",
            "execution_count": null,
            "id": "be8afd61-2639-44ee-be39-49a4016468ae",
            "metadata": {
                "tags": [
                    "L\u00f6sung"
                ],
                "jupyter": {
                    "source_hidden": true
                }
            },
            "outputs": [],
            "source": [
                "# Um die L\u00f6sung anzuzeigen, bitte diese Zelle zweimal ausf\u00fchren\n",
                "%load L\u00f6sungen/L\u00f6sung02.py"
            ]
        },
        {
            "cell_type": "code",
            "execution_count": null,
            "id": "62469fc4-cae2-490d-acb0-baf49979a6fd",
            "metadata": {},
            "outputs": [],
            "source": [
                "plt.scatter(X_train,y_train, label = \"Trainingsdaten\")\n",
                "plt.scatter(X_test,y_test, facecolors='none', edgecolors='gray', label=\"Testdaten\")\n",
                "plt.xlabel(\"X\")\n",
                "plt.ylabel(\"y\")\n",
                "plt.legend()\n",
                "plt.show()"
            ]
        },
        {
            "cell_type": "markdown",
            "id": "04449207-ad61-40b4-8a9b-25f05521e32a",
            "metadata": {},
            "source": [
                "Wir sehen, dass die Daten nun eher zuf\u00e4llig in Trainings- und Testdaten aufgeteilt sind. Nun enthalten die Trainingsdaten auch Informationen \u00fcber den rechten Arm der Parabel."
            ]
        },
        {
            "cell_type": "markdown",
            "id": "262bc5ca-4fd6-4dab-8ec1-f9a1b5e616e4",
            "metadata": {
                "tags": []
            },
            "source": [
                "**Erneutes Training verschiedener Modelle**\n",
                "\n",
                "Mit der neuen Aufteilung der Daten in Trainings- und Testdaten wollen wir erneut beobachten, wie gut die Modelle das Muster in den Daten erkennen.\n",
                "\n",
                "Probiere verschiedene Polynomfunktionen aus, indem du f\u00fcr den Parameter `grad = ...` verschiedene Werte (z.B. 0, 1, 2, 3, 4, etc.) einsetzt, und beobachte dabei, wie gut sich das Modell an die Trainingsdaten anpasst! Wie gut werden die Testdaten von den Modellen abgesch\u00e4tzt?"
            ]
        },
        {
            "cell_type": "code",
            "execution_count": null,
            "id": "7ac7c439-83d8-4e19-8e91-a7c2bd1effe4",
            "metadata": {
                "tags": [
                    "Aufgabe"
                ]
            },
            "outputs": [],
            "source": [
                "Modell_Regression(grad = ...);"
            ]
        },
        {
            "cell_type": "code",
            "execution_count": null,
            "id": "1623cb12-65b7-4fc6-8890-810d0173db16",
            "metadata": {
                "tags": [
                    "L\u00f6sung"
                ],
                "jupyter": {
                    "source_hidden": true
                }
            },
            "outputs": [],
            "source": [
                "# Um die L\u00f6sung anzuzeigen, bitte diese Zelle zweimal ausf\u00fchren\n",
                "%load L\u00f6sungen/L\u00f6sung03.py"
            ]
        },
        {
            "cell_type": "markdown",
            "id": "0250ae66-5f5e-4df1-bfd5-3f1ac610f83c",
            "metadata": {},
            "source": [
                "**Modell mit Polynomfunktion von Grad 1**\n",
                "\n",
                "Nun wollen wir gemeinsam das Verhalten der verschiedenen Modelle bei der zuf\u00e4lligen Aufteilung in Test- und Trainingsdaten beleuchten. Als Erstes schauen wir uns wieder ein sehr einfaches Modell an mit *grad* = 1."
            ]
        },
        {
            "cell_type": "code",
            "execution_count": null,
            "id": "585e27b1-712e-4189-9b32-c64e7e1ed895",
            "metadata": {},
            "outputs": [],
            "source": [
                "Modell_Regression(grad = 1);"
            ]
        },
        {
            "cell_type": "markdown",
            "id": "c381fd07-4bec-469b-a1b0-1f25adfb2895",
            "metadata": {
                "tags": [
                    "Aufgabe"
                ]
            },
            "source": [
                "**Frage:** Wie gut passt sich das Modell an die Trainingsdaten und an die Testdaten an? Handelt es sich um Overfitting oder um Underfitting? Warum passt sich das Modell so schlecht an die Daten an?"
            ]
        },
        {
            "cell_type": "markdown",
            "id": "708e551c-f061-4095-a297-185830aead20",
            "metadata": {},
            "source": [
                "***L\u00f6sung:** Klicke auf die folgende Zelle (...) um sie sichtbar zu machen*"
            ]
        },
        {
            "cell_type": "markdown",
            "id": "bf197d85-cfac-438d-8ef6-5db55675f3c4",
            "metadata": {
                "tags": [
                    "L\u00f6sung"
                ],
                "jupyter": {
                    "source_hidden": true
                }
            },
            "source": [
                "Das Modell passt sich sowohl an die Trainings- als auch an die Testdaten nur unzureichend an. Daher handelt es sich um ein **Underfitting**. Grund daf\u00fcr ist, dass das Modell zu simpel gew\u00e4hlt ist, um das Muster in den Trainingsdaten widerzuspiegeln. Dieses Verhalten ist unabh\u00e4ngig von der Verteilung der Daten in Test- und Trainingsdaten."
            ]
        },
        {
            "cell_type": "markdown",
            "id": "b6e090ec-d934-404b-8ceb-6de2084fd14d",
            "metadata": {},
            "source": [
                "**Modell mit Polynomfunktion vom Grad 2**"
            ]
        },
        {
            "cell_type": "code",
            "execution_count": null,
            "id": "b57b57d0-3401-4989-8e4c-cd8c4a36f852",
            "metadata": {},
            "outputs": [],
            "source": [
                "Modell_Regression(grad = 2);"
            ]
        },
        {
            "cell_type": "markdown",
            "id": "1a62465c-aeff-4b4c-b4b0-9da52f4d2423",
            "metadata": {
                "tags": [
                    "Aufgabe"
                ]
            },
            "source": [
                "**Frage:** Wie gut passt sich das Modell an die Trainingsdaten und an die Testdaten an?"
            ]
        },
        {
            "cell_type": "markdown",
            "id": "1fcc24b6-dde9-4a15-b597-a246bc84aadf",
            "metadata": {},
            "source": [
                "***L\u00f6sung:** Klicke auf die folgende Zelle (...) um sie sichtbar zu machen*"
            ]
        },
        {
            "cell_type": "markdown",
            "id": "7328bb03-ea7b-440d-92e4-7f5192cf4ed7",
            "metadata": {
                "tags": [
                    "L\u00f6sung"
                ],
                "jupyter": {
                    "source_hidden": true
                }
            },
            "source": [
                "Das Modell stellt das Muster der Daten gut dar, sowohl f\u00fcr die Trainingsdaten als auch f\u00fcr die Testdaten. Die Trainingsdaten spiegeln den tats\u00e4chlichen Zusammenhang der Eingabedaten X und der Ausgabe y sehr gut wider und das Modell ist passend zu dem Muster in den Daten gew\u00e4hlt."
            ]
        },
        {
            "cell_type": "markdown",
            "id": "0cb5351d-0ad1-4cdf-9b12-bc2d50ab6088",
            "metadata": {},
            "source": [
                "**Modell mit Polynomfunktion vom Grad 7**"
            ]
        },
        {
            "cell_type": "code",
            "execution_count": null,
            "id": "c7f51388-f48e-4919-89c6-88badf786611",
            "metadata": {},
            "outputs": [],
            "source": [
                "Modell_Regression(grad = 7);"
            ]
        },
        {
            "cell_type": "markdown",
            "id": "ae437ae9-6f5a-453b-83dc-b6a4b434839b",
            "metadata": {
                "tags": [
                    "Aufgabe"
                ]
            },
            "source": [
                "**Frage:** Wie gut passt sich das Modell an die Trainingsdaten und an die Testdaten an?"
            ]
        },
        {
            "cell_type": "markdown",
            "id": "00e24202-9b22-4d49-909e-31e153bc6920",
            "metadata": {},
            "source": [
                "***L\u00f6sung:** Klicke auf die folgende Zelle (...) um sie sichtbar zu machen*"
            ]
        },
        {
            "cell_type": "markdown",
            "id": "50f50a94-f498-4a38-a7ff-8872db7fcca1",
            "metadata": {
                "tags": [
                    "L\u00f6sung"
                ],
                "jupyter": {
                    "source_hidden": true
                }
            },
            "source": [
                "W\u00e4hrend sich das Modell sehr gut an die Trainingsdaten anpasst, spiegelt das Modell den tats\u00e4chlichen Zusammenhang in den Daten nicht wider. Die Testdaten liegen zum Teil weit entfernt von dem Modell. Daher handelt es sich hier um **Overfitting**. Grund daf\u00fcr ist, dass das Modell zu komplex gew\u00e4hlt wurde. Das Modell hat so das Rauschen in den Trainingsdaten mitgelernt, aber nicht das zugrundeliegende Muster in den Daten erkannt."
            ]
        }
    ],
    "metadata": {
        "kernelspec": {
            "display_name": "Python 3 (ipykernel)",
            "language": "python",
            "name": "python3"
        },
        "language_info": {
            "codemirror_mode": {
                "name": "ipython",
                "version": 3
            },
            "file_extension": ".py",
            "mimetype": "text/x-python",
            "name": "python",
            "nbconvert_exporter": "python",
            "pygments_lexer": "ipython3",
            "version": "3.11.0"
        },
        "toc-showtags": false
    },
    "nbformat": 4,
    "nbformat_minor": 5
}
